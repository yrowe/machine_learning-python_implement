{
 "cells": [
  {
   "cell_type": "markdown",
   "metadata": {},
   "source": [
    "# linear regression\n",
    "线性回归的简单实现，包括一个输入的线性回归和多个输入的多元回归，实现方式为python的numpy库。"
   ]
  },
  {
   "cell_type": "code",
   "execution_count": 1,
   "metadata": {
    "collapsed": true
   },
   "outputs": [],
   "source": [
    "import numpy as np\n",
    "import matplotlib.pyplot as plt\n",
    "from mpl_toolkits.mplot3d import Axes3D\n",
    "from numpy import random\n",
    "%matplotlib notebook"
   ]
  },
  {
   "cell_type": "markdown",
   "metadata": {},
   "source": [
    "## 输入属性个数只有一个\n",
    "利用均方误差最小化作为模型求解的方法。 同时，这也即最小二乘法。\n"
   ]
  },
  {
   "cell_type": "code",
   "execution_count": 3,
   "metadata": {
    "collapsed": false
   },
   "outputs": [],
   "source": [
    "np.random.seed(1)"
   ]
  },
  {
   "cell_type": "code",
   "execution_count": 5,
   "metadata": {
    "collapsed": true
   },
   "outputs": [],
   "source": [
    "aa = random.randn(10)"
   ]
  },
  {
   "cell_type": "code",
   "execution_count": 6,
   "metadata": {
    "collapsed": false
   },
   "outputs": [
    {
     "data": {
      "text/plain": [
       "array([ 1.62434536, -0.61175641, -0.52817175, -1.07296862,  0.86540763,\n",
       "       -2.3015387 ,  1.74481176, -0.7612069 ,  0.3190391 , -0.24937038])"
      ]
     },
     "execution_count": 6,
     "metadata": {},
     "output_type": "execute_result"
    }
   ],
   "source": [
    "aa"
   ]
  },
  {
   "cell_type": "code",
   "execution_count": 11,
   "metadata": {
    "collapsed": false
   },
   "outputs": [],
   "source": [
    "x = np.linspace(1,10,num=10)"
   ]
  },
  {
   "cell_type": "code",
   "execution_count": 22,
   "metadata": {
    "collapsed": false
   },
   "outputs": [],
   "source": [
    "y = x + 0.5*aa"
   ]
  },
  {
   "cell_type": "code",
   "execution_count": 23,
   "metadata": {
    "collapsed": false
   },
   "outputs": [
    {
     "data": {
      "text/plain": [
       "array([ 1.81217268,  1.69412179,  2.73591412,  3.46351569,  5.43270381,\n",
       "        4.84923065,  7.87240588,  7.61939655,  9.15951955,  9.87531481])"
      ]
     },
     "execution_count": 23,
     "metadata": {},
     "output_type": "execute_result"
    }
   ],
   "source": [
    "y"
   ]
  },
  {
   "cell_type": "code",
   "execution_count": 24,
   "metadata": {
    "collapsed": false
   },
   "outputs": [
    {
     "data": {
      "text/plain": [
       "<matplotlib.collections.PathCollection at 0x853b080>"
      ]
     },
     "execution_count": 24,
     "metadata": {},
     "output_type": "execute_result"
    },
    {
     "data": {
      "image/png": "[encoded data removed]",
      "text/plain": [
       "<matplotlib.figure.Figure at 0x70a8898>"
      ]
     },
     "metadata": {},
     "output_type": "display_data"
    }
   ],
   "source": [
    "plt.scatter(x,y)"
   ]
  },
  {
   "cell_type": "code",
   "execution_count": 27,
   "metadata": {
    "collapsed": false
   },
   "outputs": [
    {
     "data": {
      "text/plain": [
       "10L"
      ]
     },
     "execution_count": 27,
     "metadata": {},
     "output_type": "execute_result"
    }
   ],
   "source": [
    "x.shape[0]"
   ]
  },
  {
   "cell_type": "markdown",
   "metadata": {},
   "source": [
    "$$ \\Large w = \\frac {\\sum\\limits_{i=1}^{m}y_i(x_i-\\bar x)}{\\sum\\limits_{i=1}^mx_i^2-\\frac{1}{m}(\\sum\\limits_{i=1}^{m}x_i)^2} ,$$"
   ]
  },
  {
   "cell_type": "markdown",
   "metadata": {},
   "source": [
    "$$ \\Large b = \\frac{1}{m}\\sum\\limits_{i=1}^m(y_i-wx_i) $$"
   ]
  },
  {
   "cell_type": "code",
   "execution_count": 28,
   "metadata": {
    "collapsed": false
   },
   "outputs": [],
   "source": [
    "w = (y*(x-x.mean())).sum()*1.0/((x*x).sum() - (x.sum())**2 * 1.0/x.shape[0])"
   ]
  },
  {
   "cell_type": "code",
   "execution_count": 30,
   "metadata": {
    "collapsed": false
   },
   "outputs": [],
   "source": [
    "b = (y - w*x).sum()*1.0/x.shape[0]"
   ]
  },
  {
   "cell_type": "code",
   "execution_count": 31,
   "metadata": {
    "collapsed": false
   },
   "outputs": [
    {
     "name": "stdout",
     "output_type": "stream",
     "text": [
      "w= 0.981131351532\n",
      "b= 0.055207121173\n"
     ]
    }
   ],
   "source": [
    "print \"w=\",w\n",
    "print \"b=\",b"
   ]
  },
  {
   "cell_type": "code",
   "execution_count": 32,
   "metadata": {
    "collapsed": true
   },
   "outputs": [],
   "source": [
    "x2 = np.linspace(1,10,100)"
   ]
  },
  {
   "cell_type": "code",
   "execution_count": 33,
   "metadata": {
    "collapsed": true
   },
   "outputs": [],
   "source": [
    "y2 = w*x2 + b"
   ]
  },
  {
   "cell_type": "code",
   "execution_count": 35,
   "metadata": {
    "collapsed": false
   },
   "outputs": [
    {
     "data": {
      "text/plain": [
       "[<matplotlib.lines.Line2D at 0x88014a8>]"
      ]
     },
     "execution_count": 35,
     "metadata": {},
     "output_type": "execute_result"
    },
    {
     "data": {
      "image/png": "[encoded data removed]",
      "text/plain": [
       "<matplotlib.figure.Figure at 0x8801710>"
      ]
     },
     "metadata": {},
     "output_type": "display_data"
    }
   ],
   "source": [
    "plt.scatter(x,y)\n",
    "plt.plot(x2,y2)"
   ]
  },
  {
   "cell_type": "markdown",
   "metadata": {
    "collapsed": true
   },
   "source": [
    "## 多元线性回归(multivariate linear regression)\n",
    "样本由d个属性描述，同样地，利用最小二乘法对***w***和*b*进行估计。  \n",
    "$$\n",
    "f(\\textbf{x}_i)=\\textbf{w}^T\\textbf{x}_i+b,make\\quad f(\\textbf{x}_i)\\simeq y_i\n",
    "$$\n",
    "\n",
    "当$\\textbf{X}^T\\textbf{X}$为满秩矩阵（full-rank matrix）或正定矩阵（positive definite matrix）时，有：  \n",
    "$$\n",
    "\\overset{\\frown}{w}^* = (\\textbf{X}^T\\textbf{X})^{-1}\\textbf{X}^Ty\n",
    "$$"
   ]
  },
  {
   "cell_type": "code",
   "execution_count": 140,
   "metadata": {
    "collapsed": true
   },
   "outputs": [],
   "source": [
    "x1 = x2 = np.linspace(1,10,100).reshape(100,1)"
   ]
  },
  {
   "cell_type": "code",
   "execution_count": 141,
   "metadata": {
    "collapsed": false
   },
   "outputs": [
    {
     "data": {
      "text/plain": [
       "(100L, 2L)"
      ]
     },
     "execution_count": 141,
     "metadata": {},
     "output_type": "execute_result"
    }
   ],
   "source": [
    "x.shape"
   ]
  },
  {
   "cell_type": "code",
   "execution_count": 142,
   "metadata": {
    "collapsed": true
   },
   "outputs": [],
   "source": [
    "bias = random.randn(100,1)"
   ]
  },
  {
   "cell_type": "code",
   "execution_count": 143,
   "metadata": {
    "collapsed": false
   },
   "outputs": [],
   "source": [
    "bias1 = random.randn(100,1)\n",
    "bias2 = random.randn(100,1)"
   ]
  },
  {
   "cell_type": "code",
   "execution_count": 144,
   "metadata": {
    "collapsed": true
   },
   "outputs": [],
   "source": [
    "x1 = x1 - 0.1*bias1"
   ]
  },
  {
   "cell_type": "code",
   "execution_count": 145,
   "metadata": {
    "collapsed": true
   },
   "outputs": [],
   "source": [
    "x2 = x2 - 0.1*bias2"
   ]
  },
  {
   "cell_type": "code",
   "execution_count": 146,
   "metadata": {
    "collapsed": true
   },
   "outputs": [],
   "source": [
    "actual_x = np.concatenate((x1,x2),axis=1)"
   ]
  },
  {
   "cell_type": "code",
   "execution_count": 147,
   "metadata": {
    "collapsed": false
   },
   "outputs": [],
   "source": [
    "actual_w = np.ones((2,1))"
   ]
  },
  {
   "cell_type": "code",
   "execution_count": 148,
   "metadata": {
    "collapsed": false
   },
   "outputs": [],
   "source": [
    "y = actual_x.dot(actual_w)+0.5*bias"
   ]
  },
  {
   "cell_type": "code",
   "execution_count": 149,
   "metadata": {
    "collapsed": false
   },
   "outputs": [
    {
     "data": {
      "application/javascript": [
       "/* Put everything inside the global mpl namespace */\n",
       "window.mpl = {};\n",
       "\n",
       "mpl.get_websocket_type = function() {\n",
       "    if (typeof(WebSocket) !== 'undefined') {\n",
       "        return WebSocket;\n",
       "    } else if (typeof(MozWebSocket) !== 'undefined') {\n",
       "        return MozWebSocket;\n",
       "    } else {\n",
       "        alert('Your browser does not have WebSocket support.' +\n",
       "              'Please try Chrome, Safari or Firefox ≥ 6. ' +\n",
       "              'Firefox 4 and 5 are also supported but you ' +\n",
       "              'have to enable WebSockets in about:config.');\n",
       "    };\n",
       "}\n",
       "\n",
       "mpl.figure = function(figure_id, websocket, ondownload, parent_element) {\n",
       "    this.id = figure_id;\n",
       "\n",
       "    this.ws = websocket;\n",
       "\n",
       "    this.supports_binary = (this.ws.binaryType != undefined);\n",
       "\n",
       "    if (!this.supports_binary) {\n",
       "        var warnings = document.getElementById(\"mpl-warnings\");\n",
       "        if (warnings) {\n",
       "            warnings.style.display = 'block';\n",
       "            warnings.textContent = (\n",
       "                \"This browser does not support binary websocket messages. \" +\n",
       "                    \"Performance may be slow.\");\n",
       "        }\n",
       "    }\n",
       "\n",
       "    this.imageObj = new Image();\n",
       "\n",
       "    this.context = undefined;\n",
       "    this.message = undefined;\n",
       "    this.canvas = undefined;\n",
       "    this.rubberband_canvas = undefined;\n",
       "    this.rubberband_context = undefined;\n",
       "    this.format_dropdown = undefined;\n",
       "\n",
       "    this.image_mode = 'full';\n",
       "\n",
       "    this.root = $('<div/>');\n",
       "    this._root_extra_style(this.root)\n",
       "    this.root.attr('style', 'display: inline-block');\n",
       "\n",
       "    $(parent_element).append(this.root);\n",
       "\n",
       "    this._init_header(this);\n",
       "    this._init_canvas(this);\n",
       "    this._init_toolbar(this);\n",
       "\n",
       "    var fig = this;\n",
       "\n",
       "    this.waiting = false;\n",
       "\n",
       "    this.ws.onopen =  function () {\n",
       "            fig.send_message(\"supports_binary\", {value: fig.supports_binary});\n",
       "            fig.send_message(\"send_image_mode\", {});\n",
       "            fig.send_message(\"refresh\", {});\n",
       "        }\n",
       "\n",
       "    this.imageObj.onload = function() {\n",
       "            if (fig.image_mode == 'full') {\n",
       "                // Full images could contain transparency (where diff images\n",
       "                // almost always do), so we need to clear the canvas so that\n",
       "                // there is no ghosting.\n",
       "                fig.context.clearRect(0, 0, fig.canvas.width, fig.canvas.height);\n",
       "            }\n",
       "            fig.context.drawImage(fig.imageObj, 0, 0);\n",
       "        };\n",
       "\n",
       "    this.imageObj.onunload = function() {\n",
       "        this.ws.close();\n",
       "    }\n",
       "\n",
       "    this.ws.onmessage = this._make_on_message_function(this);\n",
       "\n",
       "    this.ondownload = ondownload;\n",
       "}\n",
       "\n",
       "mpl.figure.prototype._init_header = function() {\n",
       "    var titlebar = $(\n",
       "        '<div class=\"ui-dialog-titlebar ui-widget-header ui-corner-all ' +\n",
       "        'ui-helper-clearfix\"/>');\n",
       "    var titletext = $(\n",
       "        '<div class=\"ui-dialog-title\" style=\"width: 100%; ' +\n",
       "        'text-align: center; padding: 3px;\"/>');\n",
       "    titlebar.append(titletext)\n",
       "    this.root.append(titlebar);\n",
       "    this.header = titletext[0];\n",
       "}\n",
       "\n",
       "\n",
       "\n",
       "mpl.figure.prototype._canvas_extra_style = function(canvas_div) {\n",
       "\n",
       "}\n",
       "\n",
       "\n",
       "mpl.figure.prototype._root_extra_style = function(canvas_div) {\n",
       "\n",
       "}\n",
       "\n",
       "mpl.figure.prototype._init_canvas = function() {\n",
       "    var fig = this;\n",
       "\n",
       "    var canvas_div = $('<div/>');\n",
       "\n",
       "    canvas_div.attr('style', 'position: relative; clear: both; outline: 0');\n",
       "\n",
       "    function canvas_keyboard_event(event) {\n",
       "        return fig.key_event(event, event['data']);\n",
       "    }\n",
       "\n",
       "    canvas_div.keydown('key_press', canvas_keyboard_event);\n",
       "    canvas_div.keyup('key_release', canvas_keyboard_event);\n",
       "    this.canvas_div = canvas_div\n",
       "    this._canvas_extra_style(canvas_div)\n",
       "    this.root.append(canvas_div);\n",
       "\n",
       "    var canvas = $('<canvas/>');\n",
       "    canvas.addClass('mpl-canvas');\n",
       "    canvas.attr('style', \"left: 0; top: 0; z-index: 0; outline: 0\")\n",
       "\n",
       "    this.canvas = canvas[0];\n",
       "    this.context = canvas[0].getContext(\"2d\");\n",
       "\n",
       "    var rubberband = $('<canvas/>');\n",
       "    rubberband.attr('style', \"position: absolute; left: 0; top: 0; z-index: 1;\")\n",
       "\n",
       "    var pass_mouse_events = true;\n",
       "\n",
       "    canvas_div.resizable({\n",
       "        start: function(event, ui) {\n",
       "            pass_mouse_events = false;\n",
       "        },\n",
       "        resize: function(event, ui) {\n",
       "            fig.request_resize(ui.size.width, ui.size.height);\n",
       "        },\n",
       "        stop: function(event, ui) {\n",
       "            pass_mouse_events = true;\n",
       "            fig.request_resize(ui.size.width, ui.size.height);\n",
       "        },\n",
       "    });\n",
       "\n",
       "    function mouse_event_fn(event) {\n",
       "        if (pass_mouse_events)\n",
       "            return fig.mouse_event(event, event['data']);\n",
       "    }\n",
       "\n",
       "    rubberband.mousedown('button_press', mouse_event_fn);\n",
       "    rubberband.mouseup('button_release', mouse_event_fn);\n",
       "    // Throttle sequential mouse events to 1 every 20ms.\n",
       "    rubberband.mousemove('motion_notify', mouse_event_fn);\n",
       "\n",
       "    rubberband.mouseenter('figure_enter', mouse_event_fn);\n",
       "    rubberband.mouseleave('figure_leave', mouse_event_fn);\n",
       "\n",
       "    canvas_div.on(\"wheel\", function (event) {\n",
       "        event = event.originalEvent;\n",
       "        event['data'] = 'scroll'\n",
       "        if (event.deltaY < 0) {\n",
       "            event.step = 1;\n",
       "        } else {\n",
       "            event.step = -1;\n",
       "        }\n",
       "        mouse_event_fn(event);\n",
       "    });\n",
       "\n",
       "    canvas_div.append(canvas);\n",
       "    canvas_div.append(rubberband);\n",
       "\n",
       "    this.rubberband = rubberband;\n",
       "    this.rubberband_canvas = rubberband[0];\n",
       "    this.rubberband_context = rubberband[0].getContext(\"2d\");\n",
       "    this.rubberband_context.strokeStyle = \"#000000\";\n",
       "\n",
       "    this._resize_canvas = function(width, height) {\n",
       "        // Keep the size of the canvas, canvas container, and rubber band\n",
       "        // canvas in synch.\n",
       "        canvas_div.css('width', width)\n",
       "        canvas_div.css('height', height)\n",
       "\n",
       "        canvas.attr('width', width);\n",
       "        canvas.attr('height', height);\n",
       "\n",
       "        rubberband.attr('width', width);\n",
       "        rubberband.attr('height', height);\n",
       "    }\n",
       "\n",
       "    // Set the figure to an initial 600x600px, this will subsequently be updated\n",
       "    // upon first draw.\n",
       "    this._resize_canvas(600, 600);\n",
       "\n",
       "    // Disable right mouse context menu.\n",
       "    $(this.rubberband_canvas).bind(\"contextmenu\",function(e){\n",
       "        return false;\n",
       "    });\n",
       "\n",
       "    function set_focus () {\n",
       "        canvas.focus();\n",
       "        canvas_div.focus();\n",
       "    }\n",
       "\n",
       "    window.setTimeout(set_focus, 100);\n",
       "}\n",
       "\n",
       "mpl.figure.prototype._init_toolbar = function() {\n",
       "    var fig = this;\n",
       "\n",
       "    var nav_element = $('<div/>')\n",
       "    nav_element.attr('style', 'width: 100%');\n",
       "    this.root.append(nav_element);\n",
       "\n",
       "    // Define a callback function for later on.\n",
       "    function toolbar_event(event) {\n",
       "        return fig.toolbar_button_onclick(event['data']);\n",
       "    }\n",
       "    function toolbar_mouse_event(event) {\n",
       "        return fig.toolbar_button_onmouseover(event['data']);\n",
       "    }\n",
       "\n",
       "    for(var toolbar_ind in mpl.toolbar_items) {\n",
       "        var name = mpl.toolbar_items[toolbar_ind][0];\n",
       "        var tooltip = mpl.toolbar_items[toolbar_ind][1];\n",
       "        var image = mpl.toolbar_items[toolbar_ind][2];\n",
       "        var method_name = mpl.toolbar_items[toolbar_ind][3];\n",
       "\n",
       "        if (!name) {\n",
       "            // put a spacer in here.\n",
       "            continue;\n",
       "        }\n",
       "        var button = $('<button/>');\n",
       "        button.addClass('ui-button ui-widget ui-state-default ui-corner-all ' +\n",
       "                        'ui-button-icon-only');\n",
       "        button.attr('role', 'button');\n",
       "        button.attr('aria-disabled', 'false');\n",
       "        button.click(method_name, toolbar_event);\n",
       "        button.mouseover(tooltip, toolbar_mouse_event);\n",
       "\n",
       "        var icon_img = $('<span/>');\n",
       "        icon_img.addClass('ui-button-icon-primary ui-icon');\n",
       "        icon_img.addClass(image);\n",
       "        icon_img.addClass('ui-corner-all');\n",
       "\n",
       "        var tooltip_span = $('<span/>');\n",
       "        tooltip_span.addClass('ui-button-text');\n",
       "        tooltip_span.html(tooltip);\n",
       "\n",
       "        button.append(icon_img);\n",
       "        button.append(tooltip_span);\n",
       "\n",
       "        nav_element.append(button);\n",
       "    }\n",
       "\n",
       "    var fmt_picker_span = $('<span/>');\n",
       "\n",
       "    var fmt_picker = $('<select/>');\n",
       "    fmt_picker.addClass('mpl-toolbar-option ui-widget ui-widget-content');\n",
       "    fmt_picker_span.append(fmt_picker);\n",
       "    nav_element.append(fmt_picker_span);\n",
       "    this.format_dropdown = fmt_picker[0];\n",
       "\n",
       "    for (var ind in mpl.extensions) {\n",
       "        var fmt = mpl.extensions[ind];\n",
       "        var option = $(\n",
       "            '<option/>', {selected: fmt === mpl.default_extension}).html(fmt);\n",
       "        fmt_picker.append(option)\n",
       "    }\n",
       "\n",
       "    // Add hover states to the ui-buttons\n",
       "    $( \".ui-button\" ).hover(\n",
       "        function() { $(this).addClass(\"ui-state-hover\");},\n",
       "        function() { $(this).removeClass(\"ui-state-hover\");}\n",
       "    );\n",
       "\n",
       "    var status_bar = $('<span class=\"mpl-message\"/>');\n",
       "    nav_element.append(status_bar);\n",
       "    this.message = status_bar[0];\n",
       "}\n",
       "\n",
       "mpl.figure.prototype.request_resize = function(x_pixels, y_pixels) {\n",
       "    // Request matplotlib to resize the figure. Matplotlib will then trigger a resize in the client,\n",
       "    // which will in turn request a refresh of the image.\n",
       "    this.send_message('resize', {'width': x_pixels, 'height': y_pixels});\n",
       "}\n",
       "\n",
       "mpl.figure.prototype.send_message = function(type, properties) {\n",
       "    properties['type'] = type;\n",
       "    properties['figure_id'] = this.id;\n",
       "    this.ws.send(JSON.stringify(properties));\n",
       "}\n",
       "\n",
       "mpl.figure.prototype.send_draw_message = function() {\n",
       "    if (!this.waiting) {\n",
       "        this.waiting = true;\n",
       "        this.ws.send(JSON.stringify({type: \"draw\", figure_id: this.id}));\n",
       "    }\n",
       "}\n",
       "\n",
       "\n",
       "mpl.figure.prototype.handle_save = function(fig, msg) {\n",
       "    var format_dropdown = fig.format_dropdown;\n",
       "    var format = format_dropdown.options[format_dropdown.selectedIndex].value;\n",
       "    fig.ondownload(fig, format);\n",
       "}\n",
       "\n",
       "\n",
       "mpl.figure.prototype.handle_resize = function(fig, msg) {\n",
       "    var size = msg['size'];\n",
       "    if (size[0] != fig.canvas.width || size[1] != fig.canvas.height) {\n",
       "        fig._resize_canvas(size[0], size[1]);\n",
       "        fig.send_message(\"refresh\", {});\n",
       "    };\n",
       "}\n",
       "\n",
       "mpl.figure.prototype.handle_rubberband = function(fig, msg) {\n",
       "    var x0 = msg['x0'];\n",
       "    var y0 = fig.canvas.height - msg['y0'];\n",
       "    var x1 = msg['x1'];\n",
       "    var y1 = fig.canvas.height - msg['y1'];\n",
       "    x0 = Math.floor(x0) + 0.5;\n",
       "    y0 = Math.floor(y0) + 0.5;\n",
       "    x1 = Math.floor(x1) + 0.5;\n",
       "    y1 = Math.floor(y1) + 0.5;\n",
       "    var min_x = Math.min(x0, x1);\n",
       "    var min_y = Math.min(y0, y1);\n",
       "    var width = Math.abs(x1 - x0);\n",
       "    var height = Math.abs(y1 - y0);\n",
       "\n",
       "    fig.rubberband_context.clearRect(\n",
       "        0, 0, fig.canvas.width, fig.canvas.height);\n",
       "\n",
       "    fig.rubberband_context.strokeRect(min_x, min_y, width, height);\n",
       "}\n",
       "\n",
       "mpl.figure.prototype.handle_figure_label = function(fig, msg) {\n",
       "    // Updates the figure title.\n",
       "    fig.header.textContent = msg['label'];\n",
       "}\n",
       "\n",
       "mpl.figure.prototype.handle_cursor = function(fig, msg) {\n",
       "    var cursor = msg['cursor'];\n",
       "    switch(cursor)\n",
       "    {\n",
       "    case 0:\n",
       "        cursor = 'pointer';\n",
       "        break;\n",
       "    case 1:\n",
       "        cursor = 'default';\n",
       "        break;\n",
       "    case 2:\n",
       "        cursor = 'crosshair';\n",
       "        break;\n",
       "    case 3:\n",
       "        cursor = 'move';\n",
       "        break;\n",
       "    }\n",
       "    fig.rubberband_canvas.style.cursor = cursor;\n",
       "}\n",
       "\n",
       "mpl.figure.prototype.handle_message = function(fig, msg) {\n",
       "    fig.message.textContent = msg['message'];\n",
       "}\n",
       "\n",
       "mpl.figure.prototype.handle_draw = function(fig, msg) {\n",
       "    // Request the server to send over a new figure.\n",
       "    fig.send_draw_message();\n",
       "}\n",
       "\n",
       "mpl.figure.prototype.handle_image_mode = function(fig, msg) {\n",
       "    fig.image_mode = msg['mode'];\n",
       "}\n",
       "\n",
       "mpl.figure.prototype.updated_canvas_event = function() {\n",
       "    // Called whenever the canvas gets updated.\n",
       "    this.send_message(\"ack\", {});\n",
       "}\n",
       "\n",
       "// A function to construct a web socket function for onmessage handling.\n",
       "// Called in the figure constructor.\n",
       "mpl.figure.prototype._make_on_message_function = function(fig) {\n",
       "    return function socket_on_message(evt) {\n",
       "        if (evt.data instanceof Blob) {\n",
       "            /* FIXME: We get \"Resource interpreted as Image but\n",
       "             * transferred with MIME type text/plain:\" errors on\n",
       "             * Chrome.  But how to set the MIME type?  It doesn't seem\n",
       "             * to be part of the websocket stream */\n",
       "            evt.data.type = \"image/png\";\n",
       "\n",
       "            /* Free the memory for the previous frames */\n",
       "            if (fig.imageObj.src) {\n",
       "                (window.URL || window.webkitURL).revokeObjectURL(\n",
       "                    fig.imageObj.src);\n",
       "            }\n",
       "\n",
       "            fig.imageObj.src = (window.URL || window.webkitURL).createObjectURL(\n",
       "                evt.data);\n",
       "            fig.updated_canvas_event();\n",
       "            fig.waiting = false;\n",
       "            return;\n",
       "        }\n",
       "        else if (typeof evt.data === 'string' && evt.data.slice(0, 21) == \"data:image/png;base64\") {\n",
       "            fig.imageObj.src = evt.data;\n",
       "            fig.updated_canvas_event();\n",
       "            fig.waiting = false;\n",
       "            return;\n",
       "        }\n",
       "\n",
       "        var msg = JSON.parse(evt.data);\n",
       "        var msg_type = msg['type'];\n",
       "\n",
       "        // Call the  \"handle_{type}\" callback, which takes\n",
       "        // the figure and JSON message as its only arguments.\n",
       "        try {\n",
       "            var callback = fig[\"handle_\" + msg_type];\n",
       "        } catch (e) {\n",
       "            console.log(\"No handler for the '\" + msg_type + \"' message type: \", msg);\n",
       "            return;\n",
       "        }\n",
       "\n",
       "        if (callback) {\n",
       "            try {\n",
       "                // console.log(\"Handling '\" + msg_type + \"' message: \", msg);\n",
       "                callback(fig, msg);\n",
       "            } catch (e) {\n",
       "                console.log(\"Exception inside the 'handler_\" + msg_type + \"' callback:\", e, e.stack, msg);\n",
       "            }\n",
       "        }\n",
       "    };\n",
       "}\n",
       "\n",
       "// from http://stackoverflow.com/questions/1114465/getting-mouse-location-in-canvas\n",
       "mpl.findpos = function(e) {\n",
       "    //this section is from http://www.quirksmode.org/js/events_properties.html\n",
       "    var targ;\n",
       "    if (!e)\n",
       "        e = window.event;\n",
       "    if (e.target)\n",
       "        targ = e.target;\n",
       "    else if (e.srcElement)\n",
       "        targ = e.srcElement;\n",
       "    if (targ.nodeType == 3) // defeat Safari bug\n",
       "        targ = targ.parentNode;\n",
       "\n",
       "    // jQuery normalizes the pageX and pageY\n",
       "    // pageX,Y are the mouse positions relative to the document\n",
       "    // offset() returns the position of the element relative to the document\n",
       "    var x = e.pageX - $(targ).offset().left;\n",
       "    var y = e.pageY - $(targ).offset().top;\n",
       "\n",
       "    return {\"x\": x, \"y\": y};\n",
       "};\n",
       "\n",
       "/*\n",
       " * return a copy of an object with only non-object keys\n",
       " * we need this to avoid circular references\n",
       " * http://stackoverflow.com/a/24161582/3208463\n",
       " */\n",
       "function simpleKeys (original) {\n",
       "  return Object.keys(original).reduce(function (obj, key) {\n",
       "    if (typeof original[key] !== 'object')\n",
       "        obj[key] = original[key]\n",
       "    return obj;\n",
       "  }, {});\n",
       "}\n",
       "\n",
       "mpl.figure.prototype.mouse_event = function(event, name) {\n",
       "    var canvas_pos = mpl.findpos(event)\n",
       "\n",
       "    if (name === 'button_press')\n",
       "    {\n",
       "        this.canvas.focus();\n",
       "        this.canvas_div.focus();\n",
       "    }\n",
       "\n",
       "    var x = canvas_pos.x;\n",
       "    var y = canvas_pos.y;\n",
       "\n",
       "    this.send_message(name, {x: x, y: y, button: event.button,\n",
       "                             step: event.step,\n",
       "                             guiEvent: simpleKeys(event)});\n",
       "\n",
       "    /* This prevents the web browser from automatically changing to\n",
       "     * the text insertion cursor when the button is pressed.  We want\n",
       "     * to control all of the cursor setting manually through the\n",
       "     * 'cursor' event from matplotlib */\n",
       "    event.preventDefault();\n",
       "    return false;\n",
       "}\n",
       "\n",
       "mpl.figure.prototype._key_event_extra = function(event, name) {\n",
       "    // Handle any extra behaviour associated with a key event\n",
       "}\n",
       "\n",
       "mpl.figure.prototype.key_event = function(event, name) {\n",
       "\n",
       "    // Prevent repeat events\n",
       "    if (name == 'key_press')\n",
       "    {\n",
       "        if (event.which === this._key)\n",
       "            return;\n",
       "        else\n",
       "            this._key = event.which;\n",
       "    }\n",
       "    if (name == 'key_release')\n",
       "        this._key = null;\n",
       "\n",
       "    var value = '';\n",
       "    if (event.ctrlKey && event.which != 17)\n",
       "        value += \"ctrl+\";\n",
       "    if (event.altKey && event.which != 18)\n",
       "        value += \"alt+\";\n",
       "    if (event.shiftKey && event.which != 16)\n",
       "        value += \"shift+\";\n",
       "\n",
       "    value += 'k';\n",
       "    value += event.which.toString();\n",
       "\n",
       "    this._key_event_extra(event, name);\n",
       "\n",
       "    this.send_message(name, {key: value,\n",
       "                             guiEvent: simpleKeys(event)});\n",
       "    return false;\n",
       "}\n",
       "\n",
       "mpl.figure.prototype.toolbar_button_onclick = function(name) {\n",
       "    if (name == 'download') {\n",
       "        this.handle_save(this, null);\n",
       "    } else {\n",
       "        this.send_message(\"toolbar_button\", {name: name});\n",
       "    }\n",
       "};\n",
       "\n",
       "mpl.figure.prototype.toolbar_button_onmouseover = function(tooltip) {\n",
       "    this.message.textContent = tooltip;\n",
       "};\n",
       "mpl.toolbar_items = [[\"Home\", \"Reset original view\", \"fa fa-home icon-home\", \"home\"], [\"Back\", \"Back to  previous view\", \"fa fa-arrow-left icon-arrow-left\", \"back\"], [\"Forward\", \"Forward to next view\", \"fa fa-arrow-right icon-arrow-right\", \"forward\"], [\"\", \"\", \"\", \"\"], [\"Pan\", \"Pan axes with left mouse, zoom with right\", \"fa fa-arrows icon-move\", \"pan\"], [\"Zoom\", \"Zoom to rectangle\", \"fa fa-square-o icon-check-empty\", \"zoom\"], [\"\", \"\", \"\", \"\"], [\"Download\", \"Download plot\", \"fa fa-floppy-o icon-save\", \"download\"]];\n",
       "\n",
       "mpl.extensions = [\"eps\", \"jpeg\", \"pdf\", \"png\", \"ps\", \"raw\", \"svg\", \"tif\"];\n",
       "\n",
       "mpl.default_extension = \"png\";var comm_websocket_adapter = function(comm) {\n",
       "    // Create a \"websocket\"-like object which calls the given IPython comm\n",
       "    // object with the appropriate methods. Currently this is a non binary\n",
       "    // socket, so there is still some room for performance tuning.\n",
       "    var ws = {};\n",
       "\n",
       "    ws.close = function() {\n",
       "        comm.close()\n",
       "    };\n",
       "    ws.send = function(m) {\n",
       "        //console.log('sending', m);\n",
       "        comm.send(m);\n",
       "    };\n",
       "    // Register the callback with on_msg.\n",
       "    comm.on_msg(function(msg) {\n",
       "        //console.log('receiving', msg['content']['data'], msg);\n",
       "        // Pass the mpl event to the overriden (by mpl) onmessage function.\n",
       "        ws.onmessage(msg['content']['data'])\n",
       "    });\n",
       "    return ws;\n",
       "}\n",
       "\n",
       "mpl.mpl_figure_comm = function(comm, msg) {\n",
       "    // This is the function which gets called when the mpl process\n",
       "    // starts-up an IPython Comm through the \"matplotlib\" channel.\n",
       "\n",
       "    var id = msg.content.data.id;\n",
       "    // Get hold of the div created by the display call when the Comm\n",
       "    // socket was opened in Python.\n",
       "    var element = $(\"#\" + id);\n",
       "    var ws_proxy = comm_websocket_adapter(comm)\n",
       "\n",
       "    function ondownload(figure, format) {\n",
       "        window.open(figure.imageObj.src);\n",
       "    }\n",
       "\n",
       "    var fig = new mpl.figure(id, ws_proxy,\n",
       "                           ondownload,\n",
       "                           element.get(0));\n",
       "\n",
       "    // Call onopen now - mpl needs it, as it is assuming we've passed it a real\n",
       "    // web socket which is closed, not our websocket->open comm proxy.\n",
       "    ws_proxy.onopen();\n",
       "\n",
       "    fig.parent_element = element.get(0);\n",
       "    fig.cell_info = mpl.find_output_cell(\"<div id='\" + id + \"'></div>\");\n",
       "    if (!fig.cell_info) {\n",
       "        console.error(\"Failed to find cell for figure\", id, fig);\n",
       "        return;\n",
       "    }\n",
       "\n",
       "    var output_index = fig.cell_info[2]\n",
       "    var cell = fig.cell_info[0];\n",
       "\n",
       "};\n",
       "\n",
       "mpl.figure.prototype.handle_close = function(fig, msg) {\n",
       "    fig.root.unbind('remove')\n",
       "\n",
       "    // Update the output cell to use the data from the current canvas.\n",
       "    fig.push_to_output();\n",
       "    var dataURL = fig.canvas.toDataURL();\n",
       "    // Re-enable the keyboard manager in IPython - without this line, in FF,\n",
       "    // the notebook keyboard shortcuts fail.\n",
       "    IPython.keyboard_manager.enable()\n",
       "    $(fig.parent_element).html('<img src=\"' + dataURL + '\">');\n",
       "    fig.close_ws(fig, msg);\n",
       "}\n",
       "\n",
       "mpl.figure.prototype.close_ws = function(fig, msg){\n",
       "    fig.send_message('closing', msg);\n",
       "    // fig.ws.close()\n",
       "}\n",
       "\n",
       "mpl.figure.prototype.push_to_output = function(remove_interactive) {\n",
       "    // Turn the data on the canvas into data in the output cell.\n",
       "    var dataURL = this.canvas.toDataURL();\n",
       "    this.cell_info[1]['text/html'] = '<img src=\"' + dataURL + '\">';\n",
       "}\n",
       "\n",
       "mpl.figure.prototype.updated_canvas_event = function() {\n",
       "    // Tell IPython that the notebook contents must change.\n",
       "    IPython.notebook.set_dirty(true);\n",
       "    this.send_message(\"ack\", {});\n",
       "    var fig = this;\n",
       "    // Wait a second, then push the new image to the DOM so\n",
       "    // that it is saved nicely (might be nice to debounce this).\n",
       "    setTimeout(function () { fig.push_to_output() }, 1000);\n",
       "}\n",
       "\n",
       "mpl.figure.prototype._init_toolbar = function() {\n",
       "    var fig = this;\n",
       "\n",
       "    var nav_element = $('<div/>')\n",
       "    nav_element.attr('style', 'width: 100%');\n",
       "    this.root.append(nav_element);\n",
       "\n",
       "    // Define a callback function for later on.\n",
       "    function toolbar_event(event) {\n",
       "        return fig.toolbar_button_onclick(event['data']);\n",
       "    }\n",
       "    function toolbar_mouse_event(event) {\n",
       "        return fig.toolbar_button_onmouseover(event['data']);\n",
       "    }\n",
       "\n",
       "    for(var toolbar_ind in mpl.toolbar_items){\n",
       "        var name = mpl.toolbar_items[toolbar_ind][0];\n",
       "        var tooltip = mpl.toolbar_items[toolbar_ind][1];\n",
       "        var image = mpl.toolbar_items[toolbar_ind][2];\n",
       "        var method_name = mpl.toolbar_items[toolbar_ind][3];\n",
       "\n",
       "        if (!name) { continue; };\n",
       "\n",
       "        var button = $('<button class=\"btn btn-default\" href=\"#\" title=\"' + name + '\"><i class=\"fa ' + image + ' fa-lg\"></i></button>');\n",
       "        button.click(method_name, toolbar_event);\n",
       "        button.mouseover(tooltip, toolbar_mouse_event);\n",
       "        nav_element.append(button);\n",
       "    }\n",
       "\n",
       "    // Add the status bar.\n",
       "    var status_bar = $('<span class=\"mpl-message\" style=\"text-align:right; float: right;\"/>');\n",
       "    nav_element.append(status_bar);\n",
       "    this.message = status_bar[0];\n",
       "\n",
       "    // Add the close button to the window.\n",
       "    var buttongrp = $('<div class=\"btn-group inline pull-right\"></div>');\n",
       "    var button = $('<button class=\"btn btn-mini btn-primary\" href=\"#\" title=\"Stop Interaction\"><i class=\"fa fa-power-off icon-remove icon-large\"></i></button>');\n",
       "    button.click(function (evt) { fig.handle_close(fig, {}); } );\n",
       "    button.mouseover('Stop Interaction', toolbar_mouse_event);\n",
       "    buttongrp.append(button);\n",
       "    var titlebar = this.root.find($('.ui-dialog-titlebar'));\n",
       "    titlebar.prepend(buttongrp);\n",
       "}\n",
       "\n",
       "mpl.figure.prototype._root_extra_style = function(el){\n",
       "    var fig = this\n",
       "    el.on(\"remove\", function(){\n",
       "\tfig.close_ws(fig, {});\n",
       "    });\n",
       "}\n",
       "\n",
       "mpl.figure.prototype._canvas_extra_style = function(el){\n",
       "    // this is important to make the div 'focusable\n",
       "    el.attr('tabindex', 0)\n",
       "    // reach out to IPython and tell the keyboard manager to turn it's self\n",
       "    // off when our div gets focus\n",
       "\n",
       "    // location in version 3\n",
       "    if (IPython.notebook.keyboard_manager) {\n",
       "        IPython.notebook.keyboard_manager.register_events(el);\n",
       "    }\n",
       "    else {\n",
       "        // location in version 2\n",
       "        IPython.keyboard_manager.register_events(el);\n",
       "    }\n",
       "\n",
       "}\n",
       "\n",
       "mpl.figure.prototype._key_event_extra = function(event, name) {\n",
       "    var manager = IPython.notebook.keyboard_manager;\n",
       "    if (!manager)\n",
       "        manager = IPython.keyboard_manager;\n",
       "\n",
       "    // Check for shift+enter\n",
       "    if (event.shiftKey && event.which == 13) {\n",
       "        this.canvas_div.blur();\n",
       "        // select the cell after this one\n",
       "        var index = IPython.notebook.find_cell_index(this.cell_info[0]);\n",
       "        IPython.notebook.select(index + 1);\n",
       "    }\n",
       "}\n",
       "\n",
       "mpl.figure.prototype.handle_save = function(fig, msg) {\n",
       "    fig.ondownload(fig, null);\n",
       "}\n",
       "\n",
       "\n",
       "mpl.find_output_cell = function(html_output) {\n",
       "    // Return the cell and output element which can be found *uniquely* in the notebook.\n",
       "    // Note - this is a bit hacky, but it is done because the \"notebook_saving.Notebook\"\n",
       "    // IPython event is triggered only after the cells have been serialised, which for\n",
       "    // our purposes (turning an active figure into a static one), is too late.\n",
       "    var cells = IPython.notebook.get_cells();\n",
       "    var ncells = cells.length;\n",
       "    for (var i=0; i<ncells; i++) {\n",
       "        var cell = cells[i];\n",
       "        if (cell.cell_type === 'code'){\n",
       "            for (var j=0; j<cell.output_area.outputs.length; j++) {\n",
       "                var data = cell.output_area.outputs[j];\n",
       "                if (data.data) {\n",
       "                    // IPython >= 3 moved mimebundle to data attribute of output\n",
       "                    data = data.data;\n",
       "                }\n",
       "                if (data['text/html'] == html_output) {\n",
       "                    return [cell, data, j];\n",
       "                }\n",
       "            }\n",
       "        }\n",
       "    }\n",
       "}\n",
       "\n",
       "// Register the function which deals with the matplotlib target/channel.\n",
       "// The kernel may be null if the page has been refreshed.\n",
       "if (IPython.notebook.kernel != null) {\n",
       "    IPython.notebook.kernel.comm_manager.register_target('matplotlib', mpl.mpl_figure_comm);\n",
       "}\n"
      ],
      "text/plain": [
       "<IPython.core.display.Javascript object>"
      ]
     },
     "metadata": {},
     "output_type": "display_data"
    },
    {
     "data": {
      "text/html": [
       "<img src=\"data:image/png;base64,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\">"
      ],
      "text/plain": [
       "<IPython.core.display.HTML object>"
      ]
     },
     "metadata": {},
     "output_type": "display_data"
    }
   ],
   "source": [
    "fig = plt.figure()\n",
    "ax = fig.add_subplot(111,projection='3d')\n",
    "ax.scatter3D(x1,x2,y)\n",
    "plt.show()"
   ]
  },
  {
   "cell_type": "code",
   "execution_count": 155,
   "metadata": {
    "collapsed": false
   },
   "outputs": [],
   "source": [
    "x = np.concatenate((actual_x,np.ones((100,1))),axis = 1)"
   ]
  },
  {
   "cell_type": "code",
   "execution_count": 157,
   "metadata": {
    "collapsed": false
   },
   "outputs": [
    {
     "data": {
      "text/plain": [
       "array([[ 1.10710081,  0.80364731,  1.        ],\n",
       "       [ 1.04357818,  1.24544167,  1.        ],\n",
       "       [ 1.18441277,  1.17862482,  1.        ],\n",
       "       [ 1.13549687,  1.17611184,  1.        ],\n",
       "       [ 1.3824916 ,  1.30920545,  1.        ]])"
      ]
     },
     "execution_count": 157,
     "metadata": {},
     "output_type": "execute_result"
    }
   ],
   "source": [
    "x[:5]"
   ]
  },
  {
   "cell_type": "code",
   "execution_count": 158,
   "metadata": {
    "collapsed": false
   },
   "outputs": [],
   "source": [
    "w = (np.linalg.inv(x.T.dot(x)).dot(x.T).dot(y))"
   ]
  },
  {
   "cell_type": "code",
   "execution_count": 159,
   "metadata": {
    "collapsed": false
   },
   "outputs": [
    {
     "name": "stdout",
     "output_type": "stream",
     "text": [
      "[[ 0.80278183]\n",
      " [ 1.16711374]\n",
      " [ 0.22234088]]\n"
     ]
    }
   ],
   "source": [
    "print w"
   ]
  },
  {
   "cell_type": "code",
   "execution_count": 177,
   "metadata": {
    "collapsed": false
   },
   "outputs": [],
   "source": [
    "pred_y = x.dot(w)"
   ]
  },
  {
   "cell_type": "markdown",
   "metadata": {},
   "source": [
    "均方误差"
   ]
  },
  {
   "cell_type": "code",
   "execution_count": 184,
   "metadata": {
    "collapsed": false
   },
   "outputs": [
    {
     "data": {
      "text/plain": [
       "30.567892522259886"
      ]
     },
     "execution_count": 184,
     "metadata": {},
     "output_type": "execute_result"
    }
   ],
   "source": [
    "((pred_y-y)**2).sum()"
   ]
  },
  {
   "cell_type": "code",
   "execution_count": null,
   "metadata": {
    "collapsed": true
   },
   "outputs": [],
   "source": []
  }
 ],
 "metadata": {
  "anaconda-cloud": {},
  "kernelspec": {
   "display_name": "Python [conda root]",
   "language": "python",
   "name": "conda-root-py"
  },
  "language_info": {
   "codemirror_mode": {
    "name": "ipython",
    "version": 2
   },
   "file_extension": ".py",
   "mimetype": "text/x-python",
   "name": "python",
   "nbconvert_exporter": "python",
   "pygments_lexer": "ipython2",
   "version": "2.7.12"
  }
 },
 "nbformat": 4,
 "nbformat_minor": 1
}
