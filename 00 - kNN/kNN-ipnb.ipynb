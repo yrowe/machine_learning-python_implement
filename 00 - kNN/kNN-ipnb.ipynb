{
 "cells": [
  {
   "cell_type": "markdown",
   "metadata": {},
   "source": [
    "# kNN\n",
    "## implemented by python library numpy  \n",
    "this is a simple kNN implement to solve the digit-recognizatio(mnist dataset) problem.  \n",
    "pandas is only used to load the dataset."
   ]
  },
  {
   "cell_type": "code",
   "execution_count": 47,
   "metadata": {
    "collapsed": true
   },
   "outputs": [],
   "source": [
    "import numpy as np\n",
    "import pandas as pd\n",
    "import operator"
   ]
  },
  {
   "cell_type": "markdown",
   "metadata": {},
   "source": [
    "here we use the kaggle competition-data recognization dataset.it has 28x28 = 784 features and 1 label for each training digit.  \n",
    "and we split the origin train dataset as training data and cross-validation dataset.because we need to know our algorithm performed well or not.  \n",
    "also I won't use the whole dataset,since it will build a huge matrix using kNN algorithm that our memory will leak."
   ]
  },
  {
   "cell_type": "code",
   "execution_count": 11,
   "metadata": {
    "collapsed": false
   },
   "outputs": [],
   "source": [
    "#def loadDataSet(path='./data/train.csv'):\n",
    "train = pd.read_csv('./data/train.csv')\n"
   ]
  },
  {
   "cell_type": "code",
   "execution_count": 13,
   "metadata": {
    "collapsed": false
   },
   "outputs": [],
   "source": [
    "train = train.iloc[:4200,:]"
   ]
  },
  {
   "cell_type": "code",
   "execution_count": 14,
   "metadata": {
    "collapsed": true
   },
   "outputs": [],
   "source": [
    "label = train.label.as_matrix()\n",
    "train = train.drop('label',axis = 1).as_matrix()"
   ]
  },
  {
   "cell_type": "code",
   "execution_count": 18,
   "metadata": {
    "collapsed": false
   },
   "outputs": [],
   "source": [
    "def loadDataSet(path='./data/train.csv'):\n",
    "    data = pd.read_csv(path)\n",
    "    train = data.iloc[:4000,:]\n",
    "    test = data.iloc[4000:4200,:]\n",
    "    \n",
    "    train_label = train.label.as_matrix()\n",
    "    train = train.drop('label', axis=1).as_matrix()\n",
    "    \n",
    "    test_label = test.label.as_matrix()\n",
    "    test = test.drop('label', axis=1).as_matrix()\n",
    "    \n",
    "    return train,train_label,test,test_label"
   ]
  },
  {
   "cell_type": "code",
   "execution_count": 101,
   "metadata": {
    "collapsed": false
   },
   "outputs": [],
   "source": [
    "def kNN(k=5):\n",
    "    train, train_label,test, test_label = loadDataSet()\n",
    "    pred_label = np.zeros((test_label.shape[0],1))\n",
    "    for i in range(test.shape[0]):\n",
    "        data = test[i,:]\n",
    "        distanceMatrix = np.tile(data, (train.shape[0], 1)) - train\n",
    "        distanceMatrix = distanceMatrix**2\n",
    "        distanceMatrix = distanceMatrix.sum(axis= 1)\n",
    "        sortIndex = distanceMatrix.argsort()\n",
    "        '''\n",
    "        classCount = {}\n",
    "        for j in range(k):\n",
    "            voteLabel = train_label[sortIndex[j]]\n",
    "            classCount[voteLabel] = classCount.get(voteLabel, 0) + 1\n",
    "        sortedClassCount = sorted(classCount.iteritems(), key=operator.itemgetter(1),reverse=True)\n",
    "        pred_label[i] = sortedClassCount[0][0]\n",
    "        '''\n",
    "        count = np.zeros(10)\n",
    "        for j in range(k):\n",
    "            label = train_label[sortIndex[j]]\n",
    "            count[label] += 1\n",
    "        \n",
    "        pred = count.argsort()[-1]\n",
    "        pred_label[i] = pred\n",
    "        \n",
    "    return pred_label"
   ]
  },
  {
   "cell_type": "code",
   "execution_count": 102,
   "metadata": {
    "collapsed": false
   },
   "outputs": [],
   "source": [
    "ans = kNN()"
   ]
  },
  {
   "cell_type": "code",
   "execution_count": 105,
   "metadata": {
    "collapsed": false
   },
   "outputs": [],
   "source": [
    "test_label = test_label.reshape(200,1)"
   ]
  },
  {
   "cell_type": "code",
   "execution_count": 110,
   "metadata": {
    "collapsed": false
   },
   "outputs": [
    {
     "name": "stdout",
     "output_type": "stream",
     "text": [
      "0.92\n"
     ]
    }
   ],
   "source": [
    "hit = ans == test_label\n",
    "acc = hit.sum()*1.0/test_label.shape[0]\n",
    "print acc"
   ]
  }
 ],
 "metadata": {
  "anaconda-cloud": {},
  "kernelspec": {
   "display_name": "Python [conda root]",
   "language": "python",
   "name": "conda-root-py"
  },
  "language_info": {
   "codemirror_mode": {
    "name": "ipython",
    "version": 2
   },
   "file_extension": ".py",
   "mimetype": "text/x-python",
   "name": "python",
   "nbconvert_exporter": "python",
   "pygments_lexer": "ipython2",
   "version": "2.7.12"
  }
 },
 "nbformat": 4,
 "nbformat_minor": 1
}
