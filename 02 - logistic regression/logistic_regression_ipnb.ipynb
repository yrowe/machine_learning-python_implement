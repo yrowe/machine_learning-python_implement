{
 "cells": [
  {
   "cell_type": "markdown",
   "metadata": {},
   "source": [
    "# Logistic回归"
   ]
  },
  {
   "cell_type": "markdown",
   "metadata": {},
   "source": [
    "## 梯度下降法(gradient descent)\n",
    "下面的h(x)是要拟合的函数，J(theta)损失函数，theta是参数，要迭代求解的值，theta求解出来了那最终要拟合的函数h(theta)就出来了。其中m是训练集的记录条数，n是参数的个数。"
   ]
  },
  {
   "cell_type": "markdown",
   "metadata": {},
   "source": [
    "$$\n",
    "h(\\theta) = \\sum\\limits_{j=0}^n\\theta_jx_j\n",
    "$$"
   ]
  },
  {
   "cell_type": "markdown",
   "metadata": {},
   "source": [
    "$$\n",
    "J(\\theta) = \\frac{1}{2m}\\sum\\limits_{i=1}^{m}(y^i-h_\\theta(x^i))^2\n",
    "$$"
   ]
  },
  {
   "cell_type": "markdown",
   "metadata": {},
   "source": [
    "（1）将J(theta)对theta求偏导，得到每个theta对应的的梯度"
   ]
  },
  {
   "cell_type": "markdown",
   "metadata": {},
   "source": [
    "$$\n",
    "\\frac{\\partial J(\\theta)}{\\partial \\theta_j} = -\\frac{1}{m}\\sum\\limits_{i=1}^{m}(y^i-h_\\theta(x^i))x_j^i\n",
    "$$"
   ]
  },
  {
   "cell_type": "markdown",
   "metadata": {},
   "source": [
    "（2）由于是要最小化风险函数，所以按每个参数theta的梯度负方向，来更新每个theta"
   ]
  },
  {
   "cell_type": "markdown",
   "metadata": {},
   "source": [
    "$$\n",
    "\\theta_j = \\theta_j + \\frac{\\partial J(\\theta)}{\\partial \\theta_j}\n",
    "$$\n",
    "即使  \n",
    "$$\n",
    "\\theta_j = \\theta_j + \\frac{1}{m}\\sum\\limits_{i=1}^{m}(y^i-h_\\theta(x^i))x_j^i\n",
    "$$"
   ]
  },
  {
   "cell_type": "markdown",
   "metadata": {},
   "source": [
    "将以上公式改成向量形式的表达，以获取计算时的加速，以参数个数为2的时候为例\n",
    "$h(\\theta)$等价的说法是:  \n",
    "$$\n",
    "h = \\theta^Tx\n",
    "$$\n",
    "其中,\n",
    "$$\n",
    "\\theta = \n",
    "\\begin{pmatrix}\n",
    "\\theta_0\\\\\n",
    "\\theta_1\n",
    "\\end{pmatrix}\n",
    "$$"
   ]
  },
  {
   "cell_type": "markdown",
   "metadata": {},
   "source": [
    "更新公式:\n",
    "$$\n",
    "\\theta = \\theta + \\alpha\\nabla_\\theta f(\\theta)\n",
    "$$\n",
    "其中  \n",
    "$$\n",
    "\\nabla _\\theta f(\\theta) = \n",
    "\\begin{pmatrix}\n",
    "\\frac{\\partial f(x,y)}{\\partial x}\\\\\n",
    "\\frac{\\partial f(x,y)}{\\partial y}\n",
    "\\end{pmatrix}\n",
    "$$"
   ]
  },
  {
   "cell_type": "markdown",
   "metadata": {
    "collapsed": true
   },
   "source": [
    "算法思想如下：  \n",
    "（1） 初始化回归系数  \n",
    "（2） 重复N次:  \n",
    "　　计算整个数据集的梯度  \n",
    "　　使用*alpha* x *gradient*更新回归系数的向量　"
   ]
  },
  {
   "cell_type": "code",
   "execution_count": 1,
   "metadata": {
    "collapsed": false
   },
   "outputs": [],
   "source": [
    "import numpy as np\n",
    "import pandas as pd\n",
    "from numpy import random\n",
    "import matplotlib.pyplot as plt\n",
    "%matplotlib inline"
   ]
  },
  {
   "cell_type": "markdown",
   "metadata": {},
   "source": [
    "构造集合"
   ]
  },
  {
   "cell_type": "code",
   "execution_count": 2,
   "metadata": {
    "collapsed": false
   },
   "outputs": [],
   "source": [
    "randomX = random.random((50,1))"
   ]
  },
  {
   "cell_type": "code",
   "execution_count": 3,
   "metadata": {
    "collapsed": false
   },
   "outputs": [
    {
     "data": {
      "text/plain": [
       "(50L, 1L)"
      ]
     },
     "execution_count": 3,
     "metadata": {},
     "output_type": "execute_result"
    }
   ],
   "source": [
    "randomX.shape"
   ]
  },
  {
   "cell_type": "code",
   "execution_count": 4,
   "metadata": {
    "collapsed": true
   },
   "outputs": [],
   "source": [
    "randomY = random.random((50,1))"
   ]
  },
  {
   "cell_type": "code",
   "execution_count": 5,
   "metadata": {
    "collapsed": false
   },
   "outputs": [],
   "source": [
    "randomIn = np.concatenate((randomX,randomY),axis = 1)"
   ]
  },
  {
   "cell_type": "code",
   "execution_count": 6,
   "metadata": {
    "collapsed": false
   },
   "outputs": [],
   "source": [
    "randomIn = np.concatenate((randomIn,np.zeros((50,1))),axis=1)"
   ]
  },
  {
   "cell_type": "code",
   "execution_count": 7,
   "metadata": {
    "collapsed": false
   },
   "outputs": [],
   "source": [
    "for i in range(randomIn.shape[0]):\n",
    "    if randomIn[i][0] + randomIn[i][1] > 1:\n",
    "        randomIn[i][2] = 1\n",
    "    if random.random() < 0.05:\n",
    "        randomIn[i][2] = (randomIn[i][2] + 1) % 2 \n",
    "    #手动 生成一些噪声点"
   ]
  },
  {
   "cell_type": "code",
   "execution_count": 8,
   "metadata": {
    "collapsed": false
   },
   "outputs": [
    {
     "data": {
      "application/javascript": [
       "/* Put everything inside the global mpl namespace */\n",
       "window.mpl = {};\n",
       "\n",
       "mpl.get_websocket_type = function() {\n",
       "    if (typeof(WebSocket) !== 'undefined') {\n",
       "        return WebSocket;\n",
       "    } else if (typeof(MozWebSocket) !== 'undefined') {\n",
       "        return MozWebSocket;\n",
       "    } else {\n",
       "        alert('Your browser does not have WebSocket support.' +\n",
       "              'Please try Chrome, Safari or Firefox ≥ 6. ' +\n",
       "              'Firefox 4 and 5 are also supported but you ' +\n",
       "              'have to enable WebSockets in about:config.');\n",
       "    };\n",
       "}\n",
       "\n",
       "mpl.figure = function(figure_id, websocket, ondownload, parent_element) {\n",
       "    this.id = figure_id;\n",
       "\n",
       "    this.ws = websocket;\n",
       "\n",
       "    this.supports_binary = (this.ws.binaryType != undefined);\n",
       "\n",
       "    if (!this.supports_binary) {\n",
       "        var warnings = document.getElementById(\"mpl-warnings\");\n",
       "        if (warnings) {\n",
       "            warnings.style.display = 'block';\n",
       "            warnings.textContent = (\n",
       "                \"This browser does not support binary websocket messages. \" +\n",
       "                    \"Performance may be slow.\");\n",
       "        }\n",
       "    }\n",
       "\n",
       "    this.imageObj = new Image();\n",
       "\n",
       "    this.context = undefined;\n",
       "    this.message = undefined;\n",
       "    this.canvas = undefined;\n",
       "    this.rubberband_canvas = undefined;\n",
       "    this.rubberband_context = undefined;\n",
       "    this.format_dropdown = undefined;\n",
       "\n",
       "    this.image_mode = 'full';\n",
       "\n",
       "    this.root = $('<div/>');\n",
       "    this._root_extra_style(this.root)\n",
       "    this.root.attr('style', 'display: inline-block');\n",
       "\n",
       "    $(parent_element).append(this.root);\n",
       "\n",
       "    this._init_header(this);\n",
       "    this._init_canvas(this);\n",
       "    this._init_toolbar(this);\n",
       "\n",
       "    var fig = this;\n",
       "\n",
       "    this.waiting = false;\n",
       "\n",
       "    this.ws.onopen =  function () {\n",
       "            fig.send_message(\"supports_binary\", {value: fig.supports_binary});\n",
       "            fig.send_message(\"send_image_mode\", {});\n",
       "            fig.send_message(\"refresh\", {});\n",
       "        }\n",
       "\n",
       "    this.imageObj.onload = function() {\n",
       "            if (fig.image_mode == 'full') {\n",
       "                // Full images could contain transparency (where diff images\n",
       "                // almost always do), so we need to clear the canvas so that\n",
       "                // there is no ghosting.\n",
       "                fig.context.clearRect(0, 0, fig.canvas.width, fig.canvas.height);\n",
       "            }\n",
       "            fig.context.drawImage(fig.imageObj, 0, 0);\n",
       "        };\n",
       "\n",
       "    this.imageObj.onunload = function() {\n",
       "        this.ws.close();\n",
       "    }\n",
       "\n",
       "    this.ws.onmessage = this._make_on_message_function(this);\n",
       "\n",
       "    this.ondownload = ondownload;\n",
       "}\n",
       "\n",
       "mpl.figure.prototype._init_header = function() {\n",
       "    var titlebar = $(\n",
       "        '<div class=\"ui-dialog-titlebar ui-widget-header ui-corner-all ' +\n",
       "        'ui-helper-clearfix\"/>');\n",
       "    var titletext = $(\n",
       "        '<div class=\"ui-dialog-title\" style=\"width: 100%; ' +\n",
       "        'text-align: center; padding: 3px;\"/>');\n",
       "    titlebar.append(titletext)\n",
       "    this.root.append(titlebar);\n",
       "    this.header = titletext[0];\n",
       "}\n",
       "\n",
       "\n",
       "\n",
       "mpl.figure.prototype._canvas_extra_style = function(canvas_div) {\n",
       "\n",
       "}\n",
       "\n",
       "\n",
       "mpl.figure.prototype._root_extra_style = function(canvas_div) {\n",
       "\n",
       "}\n",
       "\n",
       "mpl.figure.prototype._init_canvas = function() {\n",
       "    var fig = this;\n",
       "\n",
       "    var canvas_div = $('<div/>');\n",
       "\n",
       "    canvas_div.attr('style', 'position: relative; clear: both; outline: 0');\n",
       "\n",
       "    function canvas_keyboard_event(event) {\n",
       "        return fig.key_event(event, event['data']);\n",
       "    }\n",
       "\n",
       "    canvas_div.keydown('key_press', canvas_keyboard_event);\n",
       "    canvas_div.keyup('key_release', canvas_keyboard_event);\n",
       "    this.canvas_div = canvas_div\n",
       "    this._canvas_extra_style(canvas_div)\n",
       "    this.root.append(canvas_div);\n",
       "\n",
       "    var canvas = $('<canvas/>');\n",
       "    canvas.addClass('mpl-canvas');\n",
       "    canvas.attr('style', \"left: 0; top: 0; z-index: 0; outline: 0\")\n",
       "\n",
       "    this.canvas = canvas[0];\n",
       "    this.context = canvas[0].getContext(\"2d\");\n",
       "\n",
       "    var rubberband = $('<canvas/>');\n",
       "    rubberband.attr('style', \"position: absolute; left: 0; top: 0; z-index: 1;\")\n",
       "\n",
       "    var pass_mouse_events = true;\n",
       "\n",
       "    canvas_div.resizable({\n",
       "        start: function(event, ui) {\n",
       "            pass_mouse_events = false;\n",
       "        },\n",
       "        resize: function(event, ui) {\n",
       "            fig.request_resize(ui.size.width, ui.size.height);\n",
       "        },\n",
       "        stop: function(event, ui) {\n",
       "            pass_mouse_events = true;\n",
       "            fig.request_resize(ui.size.width, ui.size.height);\n",
       "        },\n",
       "    });\n",
       "\n",
       "    function mouse_event_fn(event) {\n",
       "        if (pass_mouse_events)\n",
       "            return fig.mouse_event(event, event['data']);\n",
       "    }\n",
       "\n",
       "    rubberband.mousedown('button_press', mouse_event_fn);\n",
       "    rubberband.mouseup('button_release', mouse_event_fn);\n",
       "    // Throttle sequential mouse events to 1 every 20ms.\n",
       "    rubberband.mousemove('motion_notify', mouse_event_fn);\n",
       "\n",
       "    rubberband.mouseenter('figure_enter', mouse_event_fn);\n",
       "    rubberband.mouseleave('figure_leave', mouse_event_fn);\n",
       "\n",
       "    canvas_div.on(\"wheel\", function (event) {\n",
       "        event = event.originalEvent;\n",
       "        event['data'] = 'scroll'\n",
       "        if (event.deltaY < 0) {\n",
       "            event.step = 1;\n",
       "        } else {\n",
       "            event.step = -1;\n",
       "        }\n",
       "        mouse_event_fn(event);\n",
       "    });\n",
       "\n",
       "    canvas_div.append(canvas);\n",
       "    canvas_div.append(rubberband);\n",
       "\n",
       "    this.rubberband = rubberband;\n",
       "    this.rubberband_canvas = rubberband[0];\n",
       "    this.rubberband_context = rubberband[0].getContext(\"2d\");\n",
       "    this.rubberband_context.strokeStyle = \"#000000\";\n",
       "\n",
       "    this._resize_canvas = function(width, height) {\n",
       "        // Keep the size of the canvas, canvas container, and rubber band\n",
       "        // canvas in synch.\n",
       "        canvas_div.css('width', width)\n",
       "        canvas_div.css('height', height)\n",
       "\n",
       "        canvas.attr('width', width);\n",
       "        canvas.attr('height', height);\n",
       "\n",
       "        rubberband.attr('width', width);\n",
       "        rubberband.attr('height', height);\n",
       "    }\n",
       "\n",
       "    // Set the figure to an initial 600x600px, this will subsequently be updated\n",
       "    // upon first draw.\n",
       "    this._resize_canvas(600, 600);\n",
       "\n",
       "    // Disable right mouse context menu.\n",
       "    $(this.rubberband_canvas).bind(\"contextmenu\",function(e){\n",
       "        return false;\n",
       "    });\n",
       "\n",
       "    function set_focus () {\n",
       "        canvas.focus();\n",
       "        canvas_div.focus();\n",
       "    }\n",
       "\n",
       "    window.setTimeout(set_focus, 100);\n",
       "}\n",
       "\n",
       "mpl.figure.prototype._init_toolbar = function() {\n",
       "    var fig = this;\n",
       "\n",
       "    var nav_element = $('<div/>')\n",
       "    nav_element.attr('style', 'width: 100%');\n",
       "    this.root.append(nav_element);\n",
       "\n",
       "    // Define a callback function for later on.\n",
       "    function toolbar_event(event) {\n",
       "        return fig.toolbar_button_onclick(event['data']);\n",
       "    }\n",
       "    function toolbar_mouse_event(event) {\n",
       "        return fig.toolbar_button_onmouseover(event['data']);\n",
       "    }\n",
       "\n",
       "    for(var toolbar_ind in mpl.toolbar_items) {\n",
       "        var name = mpl.toolbar_items[toolbar_ind][0];\n",
       "        var tooltip = mpl.toolbar_items[toolbar_ind][1];\n",
       "        var image = mpl.toolbar_items[toolbar_ind][2];\n",
       "        var method_name = mpl.toolbar_items[toolbar_ind][3];\n",
       "\n",
       "        if (!name) {\n",
       "            // put a spacer in here.\n",
       "            continue;\n",
       "        }\n",
       "        var button = $('<button/>');\n",
       "        button.addClass('ui-button ui-widget ui-state-default ui-corner-all ' +\n",
       "                        'ui-button-icon-only');\n",
       "        button.attr('role', 'button');\n",
       "        button.attr('aria-disabled', 'false');\n",
       "        button.click(method_name, toolbar_event);\n",
       "        button.mouseover(tooltip, toolbar_mouse_event);\n",
       "\n",
       "        var icon_img = $('<span/>');\n",
       "        icon_img.addClass('ui-button-icon-primary ui-icon');\n",
       "        icon_img.addClass(image);\n",
       "        icon_img.addClass('ui-corner-all');\n",
       "\n",
       "        var tooltip_span = $('<span/>');\n",
       "        tooltip_span.addClass('ui-button-text');\n",
       "        tooltip_span.html(tooltip);\n",
       "\n",
       "        button.append(icon_img);\n",
       "        button.append(tooltip_span);\n",
       "\n",
       "        nav_element.append(button);\n",
       "    }\n",
       "\n",
       "    var fmt_picker_span = $('<span/>');\n",
       "\n",
       "    var fmt_picker = $('<select/>');\n",
       "    fmt_picker.addClass('mpl-toolbar-option ui-widget ui-widget-content');\n",
       "    fmt_picker_span.append(fmt_picker);\n",
       "    nav_element.append(fmt_picker_span);\n",
       "    this.format_dropdown = fmt_picker[0];\n",
       "\n",
       "    for (var ind in mpl.extensions) {\n",
       "        var fmt = mpl.extensions[ind];\n",
       "        var option = $(\n",
       "            '<option/>', {selected: fmt === mpl.default_extension}).html(fmt);\n",
       "        fmt_picker.append(option)\n",
       "    }\n",
       "\n",
       "    // Add hover states to the ui-buttons\n",
       "    $( \".ui-button\" ).hover(\n",
       "        function() { $(this).addClass(\"ui-state-hover\");},\n",
       "        function() { $(this).removeClass(\"ui-state-hover\");}\n",
       "    );\n",
       "\n",
       "    var status_bar = $('<span class=\"mpl-message\"/>');\n",
       "    nav_element.append(status_bar);\n",
       "    this.message = status_bar[0];\n",
       "}\n",
       "\n",
       "mpl.figure.prototype.request_resize = function(x_pixels, y_pixels) {\n",
       "    // Request matplotlib to resize the figure. Matplotlib will then trigger a resize in the client,\n",
       "    // which will in turn request a refresh of the image.\n",
       "    this.send_message('resize', {'width': x_pixels, 'height': y_pixels});\n",
       "}\n",
       "\n",
       "mpl.figure.prototype.send_message = function(type, properties) {\n",
       "    properties['type'] = type;\n",
       "    properties['figure_id'] = this.id;\n",
       "    this.ws.send(JSON.stringify(properties));\n",
       "}\n",
       "\n",
       "mpl.figure.prototype.send_draw_message = function() {\n",
       "    if (!this.waiting) {\n",
       "        this.waiting = true;\n",
       "        this.ws.send(JSON.stringify({type: \"draw\", figure_id: this.id}));\n",
       "    }\n",
       "}\n",
       "\n",
       "\n",
       "mpl.figure.prototype.handle_save = function(fig, msg) {\n",
       "    var format_dropdown = fig.format_dropdown;\n",
       "    var format = format_dropdown.options[format_dropdown.selectedIndex].value;\n",
       "    fig.ondownload(fig, format);\n",
       "}\n",
       "\n",
       "\n",
       "mpl.figure.prototype.handle_resize = function(fig, msg) {\n",
       "    var size = msg['size'];\n",
       "    if (size[0] != fig.canvas.width || size[1] != fig.canvas.height) {\n",
       "        fig._resize_canvas(size[0], size[1]);\n",
       "        fig.send_message(\"refresh\", {});\n",
       "    };\n",
       "}\n",
       "\n",
       "mpl.figure.prototype.handle_rubberband = function(fig, msg) {\n",
       "    var x0 = msg['x0'];\n",
       "    var y0 = fig.canvas.height - msg['y0'];\n",
       "    var x1 = msg['x1'];\n",
       "    var y1 = fig.canvas.height - msg['y1'];\n",
       "    x0 = Math.floor(x0) + 0.5;\n",
       "    y0 = Math.floor(y0) + 0.5;\n",
       "    x1 = Math.floor(x1) + 0.5;\n",
       "    y1 = Math.floor(y1) + 0.5;\n",
       "    var min_x = Math.min(x0, x1);\n",
       "    var min_y = Math.min(y0, y1);\n",
       "    var width = Math.abs(x1 - x0);\n",
       "    var height = Math.abs(y1 - y0);\n",
       "\n",
       "    fig.rubberband_context.clearRect(\n",
       "        0, 0, fig.canvas.width, fig.canvas.height);\n",
       "\n",
       "    fig.rubberband_context.strokeRect(min_x, min_y, width, height);\n",
       "}\n",
       "\n",
       "mpl.figure.prototype.handle_figure_label = function(fig, msg) {\n",
       "    // Updates the figure title.\n",
       "    fig.header.textContent = msg['label'];\n",
       "}\n",
       "\n",
       "mpl.figure.prototype.handle_cursor = function(fig, msg) {\n",
       "    var cursor = msg['cursor'];\n",
       "    switch(cursor)\n",
       "    {\n",
       "    case 0:\n",
       "        cursor = 'pointer';\n",
       "        break;\n",
       "    case 1:\n",
       "        cursor = 'default';\n",
       "        break;\n",
       "    case 2:\n",
       "        cursor = 'crosshair';\n",
       "        break;\n",
       "    case 3:\n",
       "        cursor = 'move';\n",
       "        break;\n",
       "    }\n",
       "    fig.rubberband_canvas.style.cursor = cursor;\n",
       "}\n",
       "\n",
       "mpl.figure.prototype.handle_message = function(fig, msg) {\n",
       "    fig.message.textContent = msg['message'];\n",
       "}\n",
       "\n",
       "mpl.figure.prototype.handle_draw = function(fig, msg) {\n",
       "    // Request the server to send over a new figure.\n",
       "    fig.send_draw_message();\n",
       "}\n",
       "\n",
       "mpl.figure.prototype.handle_image_mode = function(fig, msg) {\n",
       "    fig.image_mode = msg['mode'];\n",
       "}\n",
       "\n",
       "mpl.figure.prototype.updated_canvas_event = function() {\n",
       "    // Called whenever the canvas gets updated.\n",
       "    this.send_message(\"ack\", {});\n",
       "}\n",
       "\n",
       "// A function to construct a web socket function for onmessage handling.\n",
       "// Called in the figure constructor.\n",
       "mpl.figure.prototype._make_on_message_function = function(fig) {\n",
       "    return function socket_on_message(evt) {\n",
       "        if (evt.data instanceof Blob) {\n",
       "            /* FIXME: We get \"Resource interpreted as Image but\n",
       "             * transferred with MIME type text/plain:\" errors on\n",
       "             * Chrome.  But how to set the MIME type?  It doesn't seem\n",
       "             * to be part of the websocket stream */\n",
       "            evt.data.type = \"image/png\";\n",
       "\n",
       "            /* Free the memory for the previous frames */\n",
       "            if (fig.imageObj.src) {\n",
       "                (window.URL || window.webkitURL).revokeObjectURL(\n",
       "                    fig.imageObj.src);\n",
       "            }\n",
       "\n",
       "            fig.imageObj.src = (window.URL || window.webkitURL).createObjectURL(\n",
       "                evt.data);\n",
       "            fig.updated_canvas_event();\n",
       "            fig.waiting = false;\n",
       "            return;\n",
       "        }\n",
       "        else if (typeof evt.data === 'string' && evt.data.slice(0, 21) == \"data:image/png;base64\") {\n",
       "            fig.imageObj.src = evt.data;\n",
       "            fig.updated_canvas_event();\n",
       "            fig.waiting = false;\n",
       "            return;\n",
       "        }\n",
       "\n",
       "        var msg = JSON.parse(evt.data);\n",
       "        var msg_type = msg['type'];\n",
       "\n",
       "        // Call the  \"handle_{type}\" callback, which takes\n",
       "        // the figure and JSON message as its only arguments.\n",
       "        try {\n",
       "            var callback = fig[\"handle_\" + msg_type];\n",
       "        } catch (e) {\n",
       "            console.log(\"No handler for the '\" + msg_type + \"' message type: \", msg);\n",
       "            return;\n",
       "        }\n",
       "\n",
       "        if (callback) {\n",
       "            try {\n",
       "                // console.log(\"Handling '\" + msg_type + \"' message: \", msg);\n",
       "                callback(fig, msg);\n",
       "            } catch (e) {\n",
       "                console.log(\"Exception inside the 'handler_\" + msg_type + \"' callback:\", e, e.stack, msg);\n",
       "            }\n",
       "        }\n",
       "    };\n",
       "}\n",
       "\n",
       "// from http://stackoverflow.com/questions/1114465/getting-mouse-location-in-canvas\n",
       "mpl.findpos = function(e) {\n",
       "    //this section is from http://www.quirksmode.org/js/events_properties.html\n",
       "    var targ;\n",
       "    if (!e)\n",
       "        e = window.event;\n",
       "    if (e.target)\n",
       "        targ = e.target;\n",
       "    else if (e.srcElement)\n",
       "        targ = e.srcElement;\n",
       "    if (targ.nodeType == 3) // defeat Safari bug\n",
       "        targ = targ.parentNode;\n",
       "\n",
       "    // jQuery normalizes the pageX and pageY\n",
       "    // pageX,Y are the mouse positions relative to the document\n",
       "    // offset() returns the position of the element relative to the document\n",
       "    var x = e.pageX - $(targ).offset().left;\n",
       "    var y = e.pageY - $(targ).offset().top;\n",
       "\n",
       "    return {\"x\": x, \"y\": y};\n",
       "};\n",
       "\n",
       "/*\n",
       " * return a copy of an object with only non-object keys\n",
       " * we need this to avoid circular references\n",
       " * http://stackoverflow.com/a/24161582/3208463\n",
       " */\n",
       "function simpleKeys (original) {\n",
       "  return Object.keys(original).reduce(function (obj, key) {\n",
       "    if (typeof original[key] !== 'object')\n",
       "        obj[key] = original[key]\n",
       "    return obj;\n",
       "  }, {});\n",
       "}\n",
       "\n",
       "mpl.figure.prototype.mouse_event = function(event, name) {\n",
       "    var canvas_pos = mpl.findpos(event)\n",
       "\n",
       "    if (name === 'button_press')\n",
       "    {\n",
       "        this.canvas.focus();\n",
       "        this.canvas_div.focus();\n",
       "    }\n",
       "\n",
       "    var x = canvas_pos.x;\n",
       "    var y = canvas_pos.y;\n",
       "\n",
       "    this.send_message(name, {x: x, y: y, button: event.button,\n",
       "                             step: event.step,\n",
       "                             guiEvent: simpleKeys(event)});\n",
       "\n",
       "    /* This prevents the web browser from automatically changing to\n",
       "     * the text insertion cursor when the button is pressed.  We want\n",
       "     * to control all of the cursor setting manually through the\n",
       "     * 'cursor' event from matplotlib */\n",
       "    event.preventDefault();\n",
       "    return false;\n",
       "}\n",
       "\n",
       "mpl.figure.prototype._key_event_extra = function(event, name) {\n",
       "    // Handle any extra behaviour associated with a key event\n",
       "}\n",
       "\n",
       "mpl.figure.prototype.key_event = function(event, name) {\n",
       "\n",
       "    // Prevent repeat events\n",
       "    if (name == 'key_press')\n",
       "    {\n",
       "        if (event.which === this._key)\n",
       "            return;\n",
       "        else\n",
       "            this._key = event.which;\n",
       "    }\n",
       "    if (name == 'key_release')\n",
       "        this._key = null;\n",
       "\n",
       "    var value = '';\n",
       "    if (event.ctrlKey && event.which != 17)\n",
       "        value += \"ctrl+\";\n",
       "    if (event.altKey && event.which != 18)\n",
       "        value += \"alt+\";\n",
       "    if (event.shiftKey && event.which != 16)\n",
       "        value += \"shift+\";\n",
       "\n",
       "    value += 'k';\n",
       "    value += event.which.toString();\n",
       "\n",
       "    this._key_event_extra(event, name);\n",
       "\n",
       "    this.send_message(name, {key: value,\n",
       "                             guiEvent: simpleKeys(event)});\n",
       "    return false;\n",
       "}\n",
       "\n",
       "mpl.figure.prototype.toolbar_button_onclick = function(name) {\n",
       "    if (name == 'download') {\n",
       "        this.handle_save(this, null);\n",
       "    } else {\n",
       "        this.send_message(\"toolbar_button\", {name: name});\n",
       "    }\n",
       "};\n",
       "\n",
       "mpl.figure.prototype.toolbar_button_onmouseover = function(tooltip) {\n",
       "    this.message.textContent = tooltip;\n",
       "};\n",
       "mpl.toolbar_items = [[\"Home\", \"Reset original view\", \"fa fa-home icon-home\", \"home\"], [\"Back\", \"Back to  previous view\", \"fa fa-arrow-left icon-arrow-left\", \"back\"], [\"Forward\", \"Forward to next view\", \"fa fa-arrow-right icon-arrow-right\", \"forward\"], [\"\", \"\", \"\", \"\"], [\"Pan\", \"Pan axes with left mouse, zoom with right\", \"fa fa-arrows icon-move\", \"pan\"], [\"Zoom\", \"Zoom to rectangle\", \"fa fa-square-o icon-check-empty\", \"zoom\"], [\"\", \"\", \"\", \"\"], [\"Download\", \"Download plot\", \"fa fa-floppy-o icon-save\", \"download\"]];\n",
       "\n",
       "mpl.extensions = [\"eps\", \"jpeg\", \"pdf\", \"png\", \"ps\", \"raw\", \"svg\", \"tif\"];\n",
       "\n",
       "mpl.default_extension = \"png\";var comm_websocket_adapter = function(comm) {\n",
       "    // Create a \"websocket\"-like object which calls the given IPython comm\n",
       "    // object with the appropriate methods. Currently this is a non binary\n",
       "    // socket, so there is still some room for performance tuning.\n",
       "    var ws = {};\n",
       "\n",
       "    ws.close = function() {\n",
       "        comm.close()\n",
       "    };\n",
       "    ws.send = function(m) {\n",
       "        //console.log('sending', m);\n",
       "        comm.send(m);\n",
       "    };\n",
       "    // Register the callback with on_msg.\n",
       "    comm.on_msg(function(msg) {\n",
       "        //console.log('receiving', msg['content']['data'], msg);\n",
       "        // Pass the mpl event to the overriden (by mpl) onmessage function.\n",
       "        ws.onmessage(msg['content']['data'])\n",
       "    });\n",
       "    return ws;\n",
       "}\n",
       "\n",
       "mpl.mpl_figure_comm = function(comm, msg) {\n",
       "    // This is the function which gets called when the mpl process\n",
       "    // starts-up an IPython Comm through the \"matplotlib\" channel.\n",
       "\n",
       "    var id = msg.content.data.id;\n",
       "    // Get hold of the div created by the display call when the Comm\n",
       "    // socket was opened in Python.\n",
       "    var element = $(\"#\" + id);\n",
       "    var ws_proxy = comm_websocket_adapter(comm)\n",
       "\n",
       "    function ondownload(figure, format) {\n",
       "        window.open(figure.imageObj.src);\n",
       "    }\n",
       "\n",
       "    var fig = new mpl.figure(id, ws_proxy,\n",
       "                           ondownload,\n",
       "                           element.get(0));\n",
       "\n",
       "    // Call onopen now - mpl needs it, as it is assuming we've passed it a real\n",
       "    // web socket which is closed, not our websocket->open comm proxy.\n",
       "    ws_proxy.onopen();\n",
       "\n",
       "    fig.parent_element = element.get(0);\n",
       "    fig.cell_info = mpl.find_output_cell(\"<div id='\" + id + \"'></div>\");\n",
       "    if (!fig.cell_info) {\n",
       "        console.error(\"Failed to find cell for figure\", id, fig);\n",
       "        return;\n",
       "    }\n",
       "\n",
       "    var output_index = fig.cell_info[2]\n",
       "    var cell = fig.cell_info[0];\n",
       "\n",
       "};\n",
       "\n",
       "mpl.figure.prototype.handle_close = function(fig, msg) {\n",
       "    fig.root.unbind('remove')\n",
       "\n",
       "    // Update the output cell to use the data from the current canvas.\n",
       "    fig.push_to_output();\n",
       "    var dataURL = fig.canvas.toDataURL();\n",
       "    // Re-enable the keyboard manager in IPython - without this line, in FF,\n",
       "    // the notebook keyboard shortcuts fail.\n",
       "    IPython.keyboard_manager.enable()\n",
       "    $(fig.parent_element).html('<img src=\"' + dataURL + '\">');\n",
       "    fig.close_ws(fig, msg);\n",
       "}\n",
       "\n",
       "mpl.figure.prototype.close_ws = function(fig, msg){\n",
       "    fig.send_message('closing', msg);\n",
       "    // fig.ws.close()\n",
       "}\n",
       "\n",
       "mpl.figure.prototype.push_to_output = function(remove_interactive) {\n",
       "    // Turn the data on the canvas into data in the output cell.\n",
       "    var dataURL = this.canvas.toDataURL();\n",
       "    this.cell_info[1]['text/html'] = '<img src=\"' + dataURL + '\">';\n",
       "}\n",
       "\n",
       "mpl.figure.prototype.updated_canvas_event = function() {\n",
       "    // Tell IPython that the notebook contents must change.\n",
       "    IPython.notebook.set_dirty(true);\n",
       "    this.send_message(\"ack\", {});\n",
       "    var fig = this;\n",
       "    // Wait a second, then push the new image to the DOM so\n",
       "    // that it is saved nicely (might be nice to debounce this).\n",
       "    setTimeout(function () { fig.push_to_output() }, 1000);\n",
       "}\n",
       "\n",
       "mpl.figure.prototype._init_toolbar = function() {\n",
       "    var fig = this;\n",
       "\n",
       "    var nav_element = $('<div/>')\n",
       "    nav_element.attr('style', 'width: 100%');\n",
       "    this.root.append(nav_element);\n",
       "\n",
       "    // Define a callback function for later on.\n",
       "    function toolbar_event(event) {\n",
       "        return fig.toolbar_button_onclick(event['data']);\n",
       "    }\n",
       "    function toolbar_mouse_event(event) {\n",
       "        return fig.toolbar_button_onmouseover(event['data']);\n",
       "    }\n",
       "\n",
       "    for(var toolbar_ind in mpl.toolbar_items){\n",
       "        var name = mpl.toolbar_items[toolbar_ind][0];\n",
       "        var tooltip = mpl.toolbar_items[toolbar_ind][1];\n",
       "        var image = mpl.toolbar_items[toolbar_ind][2];\n",
       "        var method_name = mpl.toolbar_items[toolbar_ind][3];\n",
       "\n",
       "        if (!name) { continue; };\n",
       "\n",
       "        var button = $('<button class=\"btn btn-default\" href=\"#\" title=\"' + name + '\"><i class=\"fa ' + image + ' fa-lg\"></i></button>');\n",
       "        button.click(method_name, toolbar_event);\n",
       "        button.mouseover(tooltip, toolbar_mouse_event);\n",
       "        nav_element.append(button);\n",
       "    }\n",
       "\n",
       "    // Add the status bar.\n",
       "    var status_bar = $('<span class=\"mpl-message\" style=\"text-align:right; float: right;\"/>');\n",
       "    nav_element.append(status_bar);\n",
       "    this.message = status_bar[0];\n",
       "\n",
       "    // Add the close button to the window.\n",
       "    var buttongrp = $('<div class=\"btn-group inline pull-right\"></div>');\n",
       "    var button = $('<button class=\"btn btn-mini btn-primary\" href=\"#\" title=\"Stop Interaction\"><i class=\"fa fa-power-off icon-remove icon-large\"></i></button>');\n",
       "    button.click(function (evt) { fig.handle_close(fig, {}); } );\n",
       "    button.mouseover('Stop Interaction', toolbar_mouse_event);\n",
       "    buttongrp.append(button);\n",
       "    var titlebar = this.root.find($('.ui-dialog-titlebar'));\n",
       "    titlebar.prepend(buttongrp);\n",
       "}\n",
       "\n",
       "mpl.figure.prototype._root_extra_style = function(el){\n",
       "    var fig = this\n",
       "    el.on(\"remove\", function(){\n",
       "\tfig.close_ws(fig, {});\n",
       "    });\n",
       "}\n",
       "\n",
       "mpl.figure.prototype._canvas_extra_style = function(el){\n",
       "    // this is important to make the div 'focusable\n",
       "    el.attr('tabindex', 0)\n",
       "    // reach out to IPython and tell the keyboard manager to turn it's self\n",
       "    // off when our div gets focus\n",
       "\n",
       "    // location in version 3\n",
       "    if (IPython.notebook.keyboard_manager) {\n",
       "        IPython.notebook.keyboard_manager.register_events(el);\n",
       "    }\n",
       "    else {\n",
       "        // location in version 2\n",
       "        IPython.keyboard_manager.register_events(el);\n",
       "    }\n",
       "\n",
       "}\n",
       "\n",
       "mpl.figure.prototype._key_event_extra = function(event, name) {\n",
       "    var manager = IPython.notebook.keyboard_manager;\n",
       "    if (!manager)\n",
       "        manager = IPython.keyboard_manager;\n",
       "\n",
       "    // Check for shift+enter\n",
       "    if (event.shiftKey && event.which == 13) {\n",
       "        this.canvas_div.blur();\n",
       "        // select the cell after this one\n",
       "        var index = IPython.notebook.find_cell_index(this.cell_info[0]);\n",
       "        IPython.notebook.select(index + 1);\n",
       "    }\n",
       "}\n",
       "\n",
       "mpl.figure.prototype.handle_save = function(fig, msg) {\n",
       "    fig.ondownload(fig, null);\n",
       "}\n",
       "\n",
       "\n",
       "mpl.find_output_cell = function(html_output) {\n",
       "    // Return the cell and output element which can be found *uniquely* in the notebook.\n",
       "    // Note - this is a bit hacky, but it is done because the \"notebook_saving.Notebook\"\n",
       "    // IPython event is triggered only after the cells have been serialised, which for\n",
       "    // our purposes (turning an active figure into a static one), is too late.\n",
       "    var cells = IPython.notebook.get_cells();\n",
       "    var ncells = cells.length;\n",
       "    for (var i=0; i<ncells; i++) {\n",
       "        var cell = cells[i];\n",
       "        if (cell.cell_type === 'code'){\n",
       "            for (var j=0; j<cell.output_area.outputs.length; j++) {\n",
       "                var data = cell.output_area.outputs[j];\n",
       "                if (data.data) {\n",
       "                    // IPython >= 3 moved mimebundle to data attribute of output\n",
       "                    data = data.data;\n",
       "                }\n",
       "                if (data['text/html'] == html_output) {\n",
       "                    return [cell, data, j];\n",
       "                }\n",
       "            }\n",
       "        }\n",
       "    }\n",
       "}\n",
       "\n",
       "// Register the function which deals with the matplotlib target/channel.\n",
       "// The kernel may be null if the page has been refreshed.\n",
       "if (IPython.notebook.kernel != null) {\n",
       "    IPython.notebook.kernel.comm_manager.register_target('matplotlib', mpl.mpl_figure_comm);\n",
       "}\n"
      ],
      "text/plain": [
       "<IPython.core.display.Javascript object>"
      ]
     },
     "metadata": {},
     "output_type": "display_data"
    },
    {
     "data": {
      "text/html": [
       "<img src=\"data:image/png;base64,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\">"
      ],
      "text/plain": [
       "<IPython.core.display.HTML object>"
      ]
     },
     "metadata": {},
     "output_type": "display_data"
    }
   ],
   "source": [
    "fig = plt.figure()"
   ]
  },
  {
   "cell_type": "code",
   "execution_count": 9,
   "metadata": {
    "collapsed": false
   },
   "outputs": [],
   "source": [
    "ax = fig.add_subplot(111)"
   ]
  },
  {
   "cell_type": "code",
   "execution_count": 11,
   "metadata": {
    "collapsed": false
   },
   "outputs": [
    {
     "data": {
      "text/plain": [
       "<matplotlib.collections.PathCollection at 0x9fefa20>"
      ]
     },
     "execution_count": 11,
     "metadata": {},
     "output_type": "execute_result"
    }
   ],
   "source": [
    "ax.scatter(randomIn[:,0],randomIn[:,1],s = 100,c = randomIn[:,2])"
   ]
  },
  {
   "cell_type": "code",
   "execution_count": 12,
   "metadata": {
    "collapsed": true
   },
   "outputs": [],
   "source": [
    "label = randomIn[:,2].reshape(50,1)"
   ]
  },
  {
   "cell_type": "code",
   "execution_count": 13,
   "metadata": {
    "collapsed": false
   },
   "outputs": [
    {
     "name": "stdout",
     "output_type": "stream",
     "text": [
      "Using matplotlib backend: nbAgg\n",
      "Populating the interactive namespace from numpy and matplotlib\n"
     ]
    }
   ],
   "source": [
    "%pylab"
   ]
  },
  {
   "cell_type": "code",
   "execution_count": 14,
   "metadata": {
    "collapsed": false
   },
   "outputs": [],
   "source": [
    "Inp = np.concatenate((randomIn[:,[0,1]],np.ones((50,1))),axis = 1)"
   ]
  },
  {
   "cell_type": "code",
   "execution_count": 15,
   "metadata": {
    "collapsed": false
   },
   "outputs": [],
   "source": [
    "m,n = Inp.shape"
   ]
  },
  {
   "cell_type": "code",
   "execution_count": 16,
   "metadata": {
    "collapsed": false
   },
   "outputs": [],
   "source": [
    "alpha = 0.001\n",
    "epoch_num = 500"
   ]
  },
  {
   "cell_type": "code",
   "execution_count": 17,
   "metadata": {
    "collapsed": false
   },
   "outputs": [],
   "source": [
    "weight = np.ones((n,1))"
   ]
  },
  {
   "cell_type": "code",
   "execution_count": 18,
   "metadata": {
    "collapsed": false
   },
   "outputs": [
    {
     "name": "stdout",
     "output_type": "stream",
     "text": [
      "(50L, 3L)\n",
      "(3L, 1L)\n"
     ]
    }
   ],
   "source": [
    "print Inp.shape\n",
    "print weight.shape"
   ]
  },
  {
   "cell_type": "code",
   "execution_count": 19,
   "metadata": {
    "collapsed": true
   },
   "outputs": [],
   "source": [
    "def sigmoid(inputX):\n",
    "    return 1.0/(1 + np.exp(-inputX))"
   ]
  },
  {
   "cell_type": "code",
   "execution_count": 20,
   "metadata": {
    "collapsed": true
   },
   "outputs": [],
   "source": [
    "for i in range(epoch_num):\n",
    "    h = sigmoid(Inp.dot(weight))\n",
    "    weight = weight + alpha*(Inp.transpose().dot((label-h)))   #待解决：矩阵乘法和直接数乘之间有没有交换律? "
   ]
  },
  {
   "cell_type": "code",
   "execution_count": 21,
   "metadata": {
    "collapsed": false
   },
   "outputs": [
    {
     "data": {
      "text/plain": [
       "array([[ 0.9965392 ],\n",
       "       [ 1.65038099],\n",
       "       [-1.05566853]])"
      ]
     },
     "execution_count": 21,
     "metadata": {},
     "output_type": "execute_result"
    }
   ],
   "source": [
    "weight"
   ]
  },
  {
   "cell_type": "markdown",
   "metadata": {},
   "source": [
    "weight随着迭代次数增加 不断增大 ，但相对关系不变，即稳定后，随比例同步增长，需不需要归一化操作?"
   ]
  },
  {
   "cell_type": "code",
   "execution_count": 22,
   "metadata": {
    "collapsed": true
   },
   "outputs": [],
   "source": [
    "x = np.arange(0,1,0.01)"
   ]
  },
  {
   "cell_type": "code",
   "execution_count": 23,
   "metadata": {
    "collapsed": false
   },
   "outputs": [],
   "source": [
    "y = (-weight[2]-weight[0]*x)/weight[1]"
   ]
  },
  {
   "cell_type": "code",
   "execution_count": 24,
   "metadata": {
    "collapsed": false
   },
   "outputs": [
    {
     "data": {
      "text/plain": [
       "<matplotlib.collections.PathCollection at 0xa146358>"
      ]
     },
     "execution_count": 24,
     "metadata": {},
     "output_type": "execute_result"
    }
   ],
   "source": [
    "ax.scatter(randomIn[:,0],randomIn[:,1],s = 100,c = randomIn[:,2])"
   ]
  },
  {
   "cell_type": "code",
   "execution_count": 25,
   "metadata": {
    "collapsed": false
   },
   "outputs": [
    {
     "data": {
      "text/plain": [
       "[<matplotlib.lines.Line2D at 0xa0b70b8>]"
      ]
     },
     "execution_count": 25,
     "metadata": {},
     "output_type": "execute_result"
    }
   ],
   "source": [
    "ax.plot(x,y)"
   ]
  },
  {
   "cell_type": "code",
   "execution_count": 26,
   "metadata": {
    "collapsed": true
   },
   "outputs": [],
   "source": [
    "plt.show()"
   ]
  },
  {
   "cell_type": "code",
   "execution_count": null,
   "metadata": {
    "collapsed": true
   },
   "outputs": [],
   "source": []
  }
 ],
 "metadata": {
  "anaconda-cloud": {},
  "kernelspec": {
   "display_name": "Python [default]",
   "language": "python",
   "name": "python2"
  },
  "language_info": {
   "codemirror_mode": {
    "name": "ipython",
    "version": 2
   },
   "file_extension": ".py",
   "mimetype": "text/x-python",
   "name": "python",
   "nbconvert_exporter": "python",
   "pygments_lexer": "ipython2",
   "version": "2.7.12"
  }
 },
 "nbformat": 4,
 "nbformat_minor": 1
}
