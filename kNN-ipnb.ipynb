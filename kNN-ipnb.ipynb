{
 "cells": [
  {
   "cell_type": "markdown",
   "metadata": {},
   "source": [
    "# kNN\n",
    "## implemented by python library numpy  \n",
    "this is a simple kNN implement to solve the digit-recognizatio(mnist dataset) problem.  \n",
    "pandas is only used to load the dataset."
   ]
  },
  {
   "cell_type": "code",
   "execution_count": 47,
   "metadata": {
    "collapsed": true
   },
   "outputs": [],
   "source": [
    "import numpy as np\n",
    "import pandas as pd\n",
    "import operator"
   ]
  },
  {
   "cell_type": "markdown",
   "metadata": {},
   "source": [
    "here we use the kaggle competition-data recognization dataset.it has 28x28 = 784 features and 1 label for each training digit.  \n",
    "and we split the origin train dataset as training data and cross-validation dataset.because we need to know our algorithm performed well or not.  \n",
    "also I won't use the whole dataset,since it will build a huge matrix using kNN algorithm that our memory will leak."
   ]
  },
  {
   "cell_type": "code",
   "execution_count": 11,
   "metadata": {
    "collapsed": false
   },
   "outputs": [],
   "source": [
    "#def loadDataSet(path='./data/train.csv'):\n",
    "train = pd.read_csv('./data/train.csv')\n"
   ]
  },
  {
   "cell_type": "code",
   "execution_count": 13,
   "metadata": {
    "collapsed": false
   },
   "outputs": [],
   "source": [
    "train = train.iloc[:4200,:]"
   ]
  },
  {
   "cell_type": "code",
   "execution_count": 14,
   "metadata": {
    "collapsed": true
   },
   "outputs": [],
   "source": [
    "label = train.label.as_matrix()\n",
    "train = train.drop('label',axis = 1).as_matrix()"
   ]
  },
  {
   "cell_type": "code",
   "execution_count": 18,
   "metadata": {
    "collapsed": false
   },
   "outputs": [],
   "source": [
    "def loadDataSet(path='./data/train.csv'):\n",
    "    data = pd.read_csv(path)\n",
    "    train = data.iloc[:4000,:]\n",
    "    test = data.iloc[4000:4200,:]\n",
    "    \n",
    "    train_label = train.label.as_matrix()\n",
    "    train = train.drop('label', axis=1).as_matrix()\n",
    "    \n",
    "    test_label = test.label.as_matrix()\n",
    "    test = test.drop('label', axis=1).as_matrix()\n",
    "    \n",
    "    return train,train_label,test,test_label"
   ]
  },
  {
   "cell_type": "code",
   "execution_count": 32,
   "metadata": {
    "collapsed": false
   },
   "outputs": [],
   "source": [
    "train, train_label,test, test_label = loadDataSet()"
   ]
  },
  {
   "cell_type": "code",
   "execution_count": 50,
   "metadata": {
    "collapsed": false
   },
   "outputs": [],
   "source": [
    "pred_label = np.zeros((test_label.shape[0],1))"
   ]
  },
  {
   "cell_type": "code",
   "execution_count": 53,
   "metadata": {
    "collapsed": false
   },
   "outputs": [
    {
     "data": {
      "text/plain": [
       "array([ 1.])"
      ]
     },
     "execution_count": 53,
     "metadata": {},
     "output_type": "execute_result"
    }
   ],
   "source": [
    "pred_label[0]"
   ]
  },
  {
   "cell_type": "code",
   "execution_count": 57,
   "metadata": {
    "collapsed": false
   },
   "outputs": [],
   "source": [
    "def kNN(k=5):\n",
    "    train, train_label,test, test_label = loadDataSet()\n",
    "    pred_label = np.zeros((test_label.shape[0],1))\n",
    "    for i in range(test.shape[0]):\n",
    "        data = test[i,:]\n",
    "        distanceMatrix = np.tile(data, (train.shape[0], 1)) - train\n",
    "        distanceMatrix = distanceMatrix**2\n",
    "        distanceMatrix = distanceMatrix.sum(axis= 1)\n",
    "        sortIndex = distanceMatrix.argsort()\n",
    "        classCount = {}\n",
    "        for j in range(k):\n",
    "            voteLabel = train_label[sortIndex[j]]\n",
    "            classCount[voteLabel] = classCount.get(voteLabel, 0) + 1\n",
    "        sortedClassCount = sorted(classCount.iteritems(), key=operator.itemgetter(1),reverse=True)\n",
    "        pred_label[i] = sortedClassCount[0][0]\n",
    "        \n",
    "    return pred_label"
   ]
  },
  {
   "cell_type": "code",
   "execution_count": 58,
   "metadata": {
    "collapsed": false
   },
   "outputs": [],
   "source": [
    "ans = kNN()"
   ]
  },
  {
   "cell_type": "code",
   "execution_count": 59,
   "metadata": {
    "collapsed": false
   },
   "outputs": [
    {
     "data": {
      "text/plain": [
       "array([[ 8.],\n",
       "       [ 8.],\n",
       "       [ 0.],\n",
       "       [ 5.],\n",
       "       [ 0.],\n",
       "       [ 0.],\n",
       "       [ 3.],\n",
       "       [ 8.],\n",
       "       [ 3.],\n",
       "       [ 1.],\n",
       "       [ 2.],\n",
       "       [ 5.],\n",
       "       [ 6.],\n",
       "       [ 3.],\n",
       "       [ 0.],\n",
       "       [ 6.],\n",
       "       [ 6.],\n",
       "       [ 1.],\n",
       "       [ 3.],\n",
       "       [ 9.],\n",
       "       [ 6.],\n",
       "       [ 0.],\n",
       "       [ 2.],\n",
       "       [ 4.],\n",
       "       [ 6.],\n",
       "       [ 3.],\n",
       "       [ 2.],\n",
       "       [ 7.],\n",
       "       [ 8.],\n",
       "       [ 3.],\n",
       "       [ 2.],\n",
       "       [ 9.],\n",
       "       [ 9.],\n",
       "       [ 4.],\n",
       "       [ 1.],\n",
       "       [ 2.],\n",
       "       [ 7.],\n",
       "       [ 8.],\n",
       "       [ 6.],\n",
       "       [ 1.],\n",
       "       [ 8.],\n",
       "       [ 0.],\n",
       "       [ 9.],\n",
       "       [ 5.],\n",
       "       [ 5.],\n",
       "       [ 2.],\n",
       "       [ 5.],\n",
       "       [ 7.],\n",
       "       [ 4.],\n",
       "       [ 0.],\n",
       "       [ 2.],\n",
       "       [ 9.],\n",
       "       [ 8.],\n",
       "       [ 3.],\n",
       "       [ 2.],\n",
       "       [ 1.],\n",
       "       [ 2.],\n",
       "       [ 4.],\n",
       "       [ 6.],\n",
       "       [ 2.],\n",
       "       [ 3.],\n",
       "       [ 3.],\n",
       "       [ 2.],\n",
       "       [ 1.],\n",
       "       [ 0.],\n",
       "       [ 1.],\n",
       "       [ 5.],\n",
       "       [ 5.],\n",
       "       [ 6.],\n",
       "       [ 1.],\n",
       "       [ 8.],\n",
       "       [ 4.],\n",
       "       [ 9.],\n",
       "       [ 1.],\n",
       "       [ 7.],\n",
       "       [ 8.],\n",
       "       [ 1.],\n",
       "       [ 2.],\n",
       "       [ 0.],\n",
       "       [ 4.],\n",
       "       [ 5.],\n",
       "       [ 8.],\n",
       "       [ 2.],\n",
       "       [ 3.],\n",
       "       [ 4.],\n",
       "       [ 2.],\n",
       "       [ 1.],\n",
       "       [ 7.],\n",
       "       [ 9.],\n",
       "       [ 4.],\n",
       "       [ 7.],\n",
       "       [ 5.],\n",
       "       [ 1.],\n",
       "       [ 5.],\n",
       "       [ 7.],\n",
       "       [ 0.],\n",
       "       [ 4.],\n",
       "       [ 8.],\n",
       "       [ 6.],\n",
       "       [ 8.],\n",
       "       [ 5.],\n",
       "       [ 8.],\n",
       "       [ 6.],\n",
       "       [ 0.],\n",
       "       [ 4.],\n",
       "       [ 3.],\n",
       "       [ 6.],\n",
       "       [ 2.],\n",
       "       [ 0.],\n",
       "       [ 9.],\n",
       "       [ 1.],\n",
       "       [ 4.],\n",
       "       [ 9.],\n",
       "       [ 7.],\n",
       "       [ 9.],\n",
       "       [ 5.],\n",
       "       [ 6.],\n",
       "       [ 2.],\n",
       "       [ 2.],\n",
       "       [ 0.],\n",
       "       [ 8.],\n",
       "       [ 4.],\n",
       "       [ 2.],\n",
       "       [ 9.],\n",
       "       [ 9.],\n",
       "       [ 5.],\n",
       "       [ 9.],\n",
       "       [ 6.],\n",
       "       [ 9.],\n",
       "       [ 0.],\n",
       "       [ 4.],\n",
       "       [ 0.],\n",
       "       [ 9.],\n",
       "       [ 0.],\n",
       "       [ 6.],\n",
       "       [ 6.],\n",
       "       [ 8.],\n",
       "       [ 4.],\n",
       "       [ 8.],\n",
       "       [ 7.],\n",
       "       [ 3.],\n",
       "       [ 1.],\n",
       "       [ 4.],\n",
       "       [ 4.],\n",
       "       [ 0.],\n",
       "       [ 1.],\n",
       "       [ 7.],\n",
       "       [ 0.],\n",
       "       [ 7.],\n",
       "       [ 7.],\n",
       "       [ 3.],\n",
       "       [ 3.],\n",
       "       [ 2.],\n",
       "       [ 4.],\n",
       "       [ 0.],\n",
       "       [ 9.],\n",
       "       [ 6.],\n",
       "       [ 1.],\n",
       "       [ 9.],\n",
       "       [ 2.],\n",
       "       [ 8.],\n",
       "       [ 6.],\n",
       "       [ 3.],\n",
       "       [ 0.],\n",
       "       [ 0.],\n",
       "       [ 1.],\n",
       "       [ 7.],\n",
       "       [ 8.],\n",
       "       [ 0.],\n",
       "       [ 6.],\n",
       "       [ 5.],\n",
       "       [ 6.],\n",
       "       [ 1.],\n",
       "       [ 5.],\n",
       "       [ 1.],\n",
       "       [ 0.],\n",
       "       [ 6.],\n",
       "       [ 6.],\n",
       "       [ 9.],\n",
       "       [ 7.],\n",
       "       [ 7.],\n",
       "       [ 1.],\n",
       "       [ 0.],\n",
       "       [ 8.],\n",
       "       [ 6.],\n",
       "       [ 3.],\n",
       "       [ 8.],\n",
       "       [ 5.],\n",
       "       [ 6.],\n",
       "       [ 0.],\n",
       "       [ 9.],\n",
       "       [ 7.],\n",
       "       [ 3.],\n",
       "       [ 2.],\n",
       "       [ 3.],\n",
       "       [ 4.],\n",
       "       [ 5.],\n",
       "       [ 9.],\n",
       "       [ 2.],\n",
       "       [ 5.]])"
      ]
     },
     "execution_count": 59,
     "metadata": {},
     "output_type": "execute_result"
    }
   ],
   "source": [
    "ans"
   ]
  },
  {
   "cell_type": "code",
   "execution_count": 60,
   "metadata": {
    "collapsed": false
   },
   "outputs": [
    {
     "data": {
      "text/plain": [
       "array([8, 8, 0, 5, 0, 0, 3, 8, 2, 1, 2, 5, 6, 3, 0, 6, 6, 1, 3, 9, 6, 0, 2,\n",
       "       4, 6, 3, 2, 7, 8, 3, 2, 9, 9, 4, 7, 2, 7, 8, 6, 1, 5, 0, 9, 5, 5, 2,\n",
       "       5, 7, 4, 0, 2, 9, 8, 3, 2, 1, 2, 4, 6, 2, 3, 3, 2, 1, 6, 8, 5, 5, 6,\n",
       "       1, 8, 4, 4, 4, 7, 8, 1, 2, 0, 4, 5, 8, 2, 3, 4, 2, 7, 7, 9, 4, 7, 5,\n",
       "       9, 5, 7, 0, 4, 0, 6, 8, 5, 8, 6, 0, 4, 3, 6, 2, 0, 9, 1, 4, 9, 7, 9,\n",
       "       5, 6, 2, 2, 0, 8, 4, 2, 9, 9, 5, 9, 6, 9, 0, 4, 0, 9, 0, 6, 6, 8, 4,\n",
       "       8, 7, 3, 1, 4, 9, 0, 1, 7, 0, 7, 7, 3, 3, 2, 4, 0, 9, 6, 1, 9, 2, 8,\n",
       "       6, 5, 0, 2, 1, 7, 8, 0, 0, 8, 6, 1, 5, 4, 0, 6, 6, 9, 7, 7, 1, 0, 8,\n",
       "       6, 3, 8, 5, 6, 0, 8, 7, 3, 2, 3, 4, 5, 9, 2, 5], dtype=int64)"
      ]
     },
     "execution_count": 60,
     "metadata": {},
     "output_type": "execute_result"
    }
   ],
   "source": [
    "test_label"
   ]
  },
  {
   "cell_type": "code",
   "execution_count": 65,
   "metadata": {
    "collapsed": false
   },
   "outputs": [],
   "source": [
    "test_label = test_label.reshape(200,1)"
   ]
  },
  {
   "cell_type": "code",
   "execution_count": 66,
   "metadata": {
    "collapsed": false
   },
   "outputs": [
    {
     "data": {
      "text/plain": [
       "array([[ True],\n",
       "       [ True],\n",
       "       [ True],\n",
       "       [ True],\n",
       "       [ True],\n",
       "       [ True],\n",
       "       [ True],\n",
       "       [ True],\n",
       "       [False],\n",
       "       [ True],\n",
       "       [ True],\n",
       "       [ True],\n",
       "       [ True],\n",
       "       [ True],\n",
       "       [ True],\n",
       "       [ True],\n",
       "       [ True],\n",
       "       [ True],\n",
       "       [ True],\n",
       "       [ True],\n",
       "       [ True],\n",
       "       [ True],\n",
       "       [ True],\n",
       "       [ True],\n",
       "       [ True],\n",
       "       [ True],\n",
       "       [ True],\n",
       "       [ True],\n",
       "       [ True],\n",
       "       [ True],\n",
       "       [ True],\n",
       "       [ True],\n",
       "       [ True],\n",
       "       [ True],\n",
       "       [False],\n",
       "       [ True],\n",
       "       [ True],\n",
       "       [ True],\n",
       "       [ True],\n",
       "       [ True],\n",
       "       [False],\n",
       "       [ True],\n",
       "       [ True],\n",
       "       [ True],\n",
       "       [ True],\n",
       "       [ True],\n",
       "       [ True],\n",
       "       [ True],\n",
       "       [ True],\n",
       "       [ True],\n",
       "       [ True],\n",
       "       [ True],\n",
       "       [ True],\n",
       "       [ True],\n",
       "       [ True],\n",
       "       [ True],\n",
       "       [ True],\n",
       "       [ True],\n",
       "       [ True],\n",
       "       [ True],\n",
       "       [ True],\n",
       "       [ True],\n",
       "       [ True],\n",
       "       [ True],\n",
       "       [False],\n",
       "       [False],\n",
       "       [ True],\n",
       "       [ True],\n",
       "       [ True],\n",
       "       [ True],\n",
       "       [ True],\n",
       "       [ True],\n",
       "       [False],\n",
       "       [False],\n",
       "       [ True],\n",
       "       [ True],\n",
       "       [ True],\n",
       "       [ True],\n",
       "       [ True],\n",
       "       [ True],\n",
       "       [ True],\n",
       "       [ True],\n",
       "       [ True],\n",
       "       [ True],\n",
       "       [ True],\n",
       "       [ True],\n",
       "       [False],\n",
       "       [ True],\n",
       "       [ True],\n",
       "       [ True],\n",
       "       [ True],\n",
       "       [ True],\n",
       "       [False],\n",
       "       [ True],\n",
       "       [ True],\n",
       "       [ True],\n",
       "       [ True],\n",
       "       [False],\n",
       "       [ True],\n",
       "       [ True],\n",
       "       [ True],\n",
       "       [ True],\n",
       "       [ True],\n",
       "       [ True],\n",
       "       [ True],\n",
       "       [ True],\n",
       "       [ True],\n",
       "       [ True],\n",
       "       [ True],\n",
       "       [ True],\n",
       "       [ True],\n",
       "       [ True],\n",
       "       [ True],\n",
       "       [ True],\n",
       "       [ True],\n",
       "       [ True],\n",
       "       [ True],\n",
       "       [ True],\n",
       "       [ True],\n",
       "       [ True],\n",
       "       [ True],\n",
       "       [ True],\n",
       "       [ True],\n",
       "       [ True],\n",
       "       [ True],\n",
       "       [ True],\n",
       "       [ True],\n",
       "       [ True],\n",
       "       [ True],\n",
       "       [ True],\n",
       "       [ True],\n",
       "       [ True],\n",
       "       [ True],\n",
       "       [ True],\n",
       "       [ True],\n",
       "       [ True],\n",
       "       [ True],\n",
       "       [ True],\n",
       "       [ True],\n",
       "       [ True],\n",
       "       [ True],\n",
       "       [ True],\n",
       "       [ True],\n",
       "       [False],\n",
       "       [ True],\n",
       "       [ True],\n",
       "       [ True],\n",
       "       [ True],\n",
       "       [ True],\n",
       "       [ True],\n",
       "       [ True],\n",
       "       [ True],\n",
       "       [ True],\n",
       "       [ True],\n",
       "       [ True],\n",
       "       [ True],\n",
       "       [ True],\n",
       "       [ True],\n",
       "       [ True],\n",
       "       [ True],\n",
       "       [ True],\n",
       "       [ True],\n",
       "       [False],\n",
       "       [ True],\n",
       "       [False],\n",
       "       [ True],\n",
       "       [ True],\n",
       "       [ True],\n",
       "       [ True],\n",
       "       [False],\n",
       "       [False],\n",
       "       [ True],\n",
       "       [ True],\n",
       "       [ True],\n",
       "       [False],\n",
       "       [ True],\n",
       "       [ True],\n",
       "       [ True],\n",
       "       [ True],\n",
       "       [ True],\n",
       "       [ True],\n",
       "       [ True],\n",
       "       [ True],\n",
       "       [ True],\n",
       "       [ True],\n",
       "       [ True],\n",
       "       [ True],\n",
       "       [ True],\n",
       "       [ True],\n",
       "       [ True],\n",
       "       [False],\n",
       "       [ True],\n",
       "       [ True],\n",
       "       [ True],\n",
       "       [ True],\n",
       "       [ True],\n",
       "       [ True],\n",
       "       [ True],\n",
       "       [ True],\n",
       "       [ True]], dtype=bool)"
      ]
     },
     "execution_count": 66,
     "metadata": {},
     "output_type": "execute_result"
    }
   ],
   "source": [
    "ans == test_label"
   ]
  },
  {
   "cell_type": "code",
   "execution_count": 67,
   "metadata": {
    "collapsed": false
   },
   "outputs": [
    {
     "data": {
      "text/plain": [
       "183"
      ]
     },
     "execution_count": 67,
     "metadata": {},
     "output_type": "execute_result"
    }
   ],
   "source": [
    "hit = ans == test_label"
   ]
  },
  {
   "cell_type": "code",
   "execution_count": 68,
   "metadata": {
    "collapsed": true
   },
   "outputs": [],
   "source": [
    "acc = hit.sum() * 1.0/test_label.shape[0]"
   ]
  },
  {
   "cell_type": "code",
   "execution_count": 69,
   "metadata": {
    "collapsed": false
   },
   "outputs": [
    {
     "data": {
      "text/plain": [
       "0.91500000000000004"
      ]
     },
     "execution_count": 69,
     "metadata": {},
     "output_type": "execute_result"
    }
   ],
   "source": [
    "acc"
   ]
  },
  {
   "cell_type": "code",
   "execution_count": null,
   "metadata": {
    "collapsed": true
   },
   "outputs": [],
   "source": []
  }
 ],
 "metadata": {
  "anaconda-cloud": {},
  "kernelspec": {
   "display_name": "Python [conda root]",
   "language": "python",
   "name": "conda-root-py"
  },
  "language_info": {
   "codemirror_mode": {
    "name": "ipython",
    "version": 2
   },
   "file_extension": ".py",
   "mimetype": "text/x-python",
   "name": "python",
   "nbconvert_exporter": "python",
   "pygments_lexer": "ipython2",
   "version": "2.7.12"
  }
 },
 "nbformat": 4,
 "nbformat_minor": 1
}
